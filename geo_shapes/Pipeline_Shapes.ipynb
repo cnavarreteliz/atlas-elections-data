{
 "cells": [
  {
   "cell_type": "code",
   "execution_count": 1,
   "metadata": {},
   "outputs": [
    {
     "name": "stderr",
     "output_type": "stream",
     "text": [
      "C:\\Users\\cnavarreteliz\\AppData\\Roaming\\Python\\Python39\\site-packages\\geopandas\\_compat.py:112: UserWarning: The Shapely GEOS version (3.10.2-CAPI-1.16.0) is incompatible with the GEOS version PyGEOS was compiled with (3.10.3-CAPI-1.16.1). Conversions between both will be slow.\n",
      "  warnings.warn(\n"
     ]
    }
   ],
   "source": [
    "import geopandas as gpd\n",
    "import pandas as pd"
   ]
  },
  {
   "cell_type": "markdown",
   "metadata": {},
   "source": [
    "## France\n",
    "Geoshapes for Departments and Communes"
   ]
  },
  {
   "cell_type": "code",
   "execution_count": 12,
   "metadata": {},
   "outputs": [
    {
     "data": {
      "text/html": [
       "<div>\n",
       "<style scoped>\n",
       "    .dataframe tbody tr th:only-of-type {\n",
       "        vertical-align: middle;\n",
       "    }\n",
       "\n",
       "    .dataframe tbody tr th {\n",
       "        vertical-align: top;\n",
       "    }\n",
       "\n",
       "    .dataframe thead th {\n",
       "        text-align: right;\n",
       "    }\n",
       "</style>\n",
       "<table border=\"1\" class=\"dataframe\">\n",
       "  <thead>\n",
       "    <tr style=\"text-align: right;\">\n",
       "      <th></th>\n",
       "      <th>department_id</th>\n",
       "      <th>department</th>\n",
       "      <th>geometry</th>\n",
       "    </tr>\n",
       "  </thead>\n",
       "  <tbody>\n",
       "    <tr>\n",
       "      <th>0</th>\n",
       "      <td>01</td>\n",
       "      <td>Ain</td>\n",
       "      <td>POLYGON ((4.78021 46.17668, 4.79458 46.21832, ...</td>\n",
       "    </tr>\n",
       "    <tr>\n",
       "      <th>1</th>\n",
       "      <td>02</td>\n",
       "      <td>Aisne</td>\n",
       "      <td>POLYGON ((4.04797 49.40564, 4.03991 49.39740, ...</td>\n",
       "    </tr>\n",
       "    <tr>\n",
       "      <th>2</th>\n",
       "      <td>03</td>\n",
       "      <td>Allier</td>\n",
       "      <td>POLYGON ((3.03207 46.79491, 3.04907 46.75808, ...</td>\n",
       "    </tr>\n",
       "    <tr>\n",
       "      <th>3</th>\n",
       "      <td>04</td>\n",
       "      <td>Alpes-de-Haute-Provence</td>\n",
       "      <td>POLYGON ((5.67604 44.19143, 5.69209 44.18648, ...</td>\n",
       "    </tr>\n",
       "    <tr>\n",
       "      <th>4</th>\n",
       "      <td>05</td>\n",
       "      <td>Hautes-Alpes</td>\n",
       "      <td>POLYGON ((6.26057 45.12685, 6.29922 45.10855, ...</td>\n",
       "    </tr>\n",
       "  </tbody>\n",
       "</table>\n",
       "</div>"
      ],
      "text/plain": [
       "  department_id               department  \\\n",
       "0            01                      Ain   \n",
       "1            02                    Aisne   \n",
       "2            03                   Allier   \n",
       "3            04  Alpes-de-Haute-Provence   \n",
       "4            05             Hautes-Alpes   \n",
       "\n",
       "                                            geometry  \n",
       "0  POLYGON ((4.78021 46.17668, 4.79458 46.21832, ...  \n",
       "1  POLYGON ((4.04797 49.40564, 4.03991 49.39740, ...  \n",
       "2  POLYGON ((3.03207 46.79491, 3.04907 46.75808, ...  \n",
       "3  POLYGON ((5.67604 44.19143, 5.69209 44.18648, ...  \n",
       "4  POLYGON ((6.26057 45.12685, 6.29922 45.10855, ...  "
      ]
     },
     "execution_count": 12,
     "metadata": {},
     "output_type": "execute_result"
    }
   ],
   "source": [
    "gdf = gpd.read_file(\"https://raw.githubusercontent.com/gregoiredavid/france-geojson/master/departements-version-simplifiee.geojson\")\n",
    "gdf = gdf.rename(columns={\"nom\": \"department\", \"code\": \"department_id\"})\n",
    "\n",
    "gdf.to_file(\"geo_shapes/France_department.gpkg\", driver=\"GPKG\")  \n",
    "gdf.head()"
   ]
  },
  {
   "cell_type": "code",
   "execution_count": 13,
   "metadata": {},
   "outputs": [
    {
     "data": {
      "text/html": [
       "<div>\n",
       "<style scoped>\n",
       "    .dataframe tbody tr th:only-of-type {\n",
       "        vertical-align: middle;\n",
       "    }\n",
       "\n",
       "    .dataframe tbody tr th {\n",
       "        vertical-align: top;\n",
       "    }\n",
       "\n",
       "    .dataframe thead th {\n",
       "        text-align: right;\n",
       "    }\n",
       "</style>\n",
       "<table border=\"1\" class=\"dataframe\">\n",
       "  <thead>\n",
       "    <tr style=\"text-align: right;\">\n",
       "      <th></th>\n",
       "      <th>commune_id</th>\n",
       "      <th>commune</th>\n",
       "      <th>geometry</th>\n",
       "    </tr>\n",
       "  </thead>\n",
       "  <tbody>\n",
       "    <tr>\n",
       "      <th>0</th>\n",
       "      <td>01073</td>\n",
       "      <td>Ceyzérieu</td>\n",
       "      <td>POLYGON ((5.69816 45.86166, 5.70471 45.86125, ...</td>\n",
       "    </tr>\n",
       "    <tr>\n",
       "      <th>1</th>\n",
       "      <td>01262</td>\n",
       "      <td>Montluel</td>\n",
       "      <td>POLYGON ((5.06729 45.88115, 5.07370 45.87243, ...</td>\n",
       "    </tr>\n",
       "    <tr>\n",
       "      <th>2</th>\n",
       "      <td>01425</td>\n",
       "      <td>Tranclière</td>\n",
       "      <td>POLYGON ((5.23549 46.10047, 5.23991 46.11296, ...</td>\n",
       "    </tr>\n",
       "    <tr>\n",
       "      <th>3</th>\n",
       "      <td>02042</td>\n",
       "      <td>Azy-sur-Marne</td>\n",
       "      <td>POLYGON ((3.34368 48.99501, 3.33626 48.99923, ...</td>\n",
       "    </tr>\n",
       "    <tr>\n",
       "      <th>4</th>\n",
       "      <td>02140</td>\n",
       "      <td>Camelin</td>\n",
       "      <td>POLYGON ((3.09633 49.51790, 3.12117 49.52097, ...</td>\n",
       "    </tr>\n",
       "  </tbody>\n",
       "</table>\n",
       "</div>"
      ],
      "text/plain": [
       "  commune_id        commune                                           geometry\n",
       "0      01073      Ceyzérieu  POLYGON ((5.69816 45.86166, 5.70471 45.86125, ...\n",
       "1      01262       Montluel  POLYGON ((5.06729 45.88115, 5.07370 45.87243, ...\n",
       "2      01425     Tranclière  POLYGON ((5.23549 46.10047, 5.23991 46.11296, ...\n",
       "3      02042  Azy-sur-Marne  POLYGON ((3.34368 48.99501, 3.33626 48.99923, ...\n",
       "4      02140        Camelin  POLYGON ((3.09633 49.51790, 3.12117 49.52097, ..."
      ]
     },
     "execution_count": 13,
     "metadata": {},
     "output_type": "execute_result"
    }
   ],
   "source": [
    "gdf = gpd.read_file(\"https://raw.githubusercontent.com/gregoiredavid/france-geojson/master/communes-version-simplifiee.geojson\")\n",
    "gdf = gdf.rename(columns={\"code\": \"commune_id\", \"nom\": \"commune\"})\n",
    "\n",
    "gdf.to_file(\"geo_shapes/France_commune.gpkg\", driver=\"GPKG\")  \n",
    "gdf.head()"
   ]
  },
  {
   "cell_type": "markdown",
   "metadata": {},
   "source": [
    "## Chile\n",
    "Geoshapes for Regions and Communes"
   ]
  },
  {
   "cell_type": "code",
   "execution_count": 11,
   "metadata": {},
   "outputs": [
    {
     "data": {
      "text/html": [
       "<div>\n",
       "<style scoped>\n",
       "    .dataframe tbody tr th:only-of-type {\n",
       "        vertical-align: middle;\n",
       "    }\n",
       "\n",
       "    .dataframe tbody tr th {\n",
       "        vertical-align: top;\n",
       "    }\n",
       "\n",
       "    .dataframe thead th {\n",
       "        text-align: right;\n",
       "    }\n",
       "</style>\n",
       "<table border=\"1\" class=\"dataframe\">\n",
       "  <thead>\n",
       "    <tr style=\"text-align: right;\">\n",
       "      <th></th>\n",
       "      <th>region_id</th>\n",
       "      <th>region</th>\n",
       "      <th>province_id</th>\n",
       "      <th>province</th>\n",
       "      <th>geometry</th>\n",
       "    </tr>\n",
       "  </thead>\n",
       "  <tbody>\n",
       "    <tr>\n",
       "      <th>0</th>\n",
       "      <td>2</td>\n",
       "      <td>Región de Antofagasta</td>\n",
       "      <td>21</td>\n",
       "      <td>ANTOFAGASTA</td>\n",
       "      <td>MULTIPOLYGON (((-7870470.961 -2985679.186, -78...</td>\n",
       "    </tr>\n",
       "    <tr>\n",
       "      <th>1</th>\n",
       "      <td>15</td>\n",
       "      <td>Región de Arica y Parinacota</td>\n",
       "      <td>151</td>\n",
       "      <td>ARICA</td>\n",
       "      <td>POLYGON ((-7748273.366 -2108728.860, -7747986....</td>\n",
       "    </tr>\n",
       "    <tr>\n",
       "      <th>2</th>\n",
       "      <td>3</td>\n",
       "      <td>Región de Atacama</td>\n",
       "      <td>32</td>\n",
       "      <td>CHANARAL</td>\n",
       "      <td>MULTIPOLYGON (((-7868800.549 -3017643.396, -78...</td>\n",
       "    </tr>\n",
       "    <tr>\n",
       "      <th>3</th>\n",
       "      <td>3</td>\n",
       "      <td>Región de Atacama</td>\n",
       "      <td>31</td>\n",
       "      <td>COPIAPO</td>\n",
       "      <td>MULTIPOLYGON (((-7932747.769 -3311218.615, -79...</td>\n",
       "    </tr>\n",
       "    <tr>\n",
       "      <th>4</th>\n",
       "      <td>2</td>\n",
       "      <td>Región de Antofagasta</td>\n",
       "      <td>22</td>\n",
       "      <td>EL LOA</td>\n",
       "      <td>POLYGON ((-7615643.575 -2384075.436, -7615022....</td>\n",
       "    </tr>\n",
       "  </tbody>\n",
       "</table>\n",
       "</div>"
      ],
      "text/plain": [
       "   region_id                        region  province_id     province  \\\n",
       "0          2         Región de Antofagasta           21  ANTOFAGASTA   \n",
       "1         15  Región de Arica y Parinacota          151        ARICA   \n",
       "2          3             Región de Atacama           32     CHANARAL   \n",
       "3          3             Región de Atacama           31      COPIAPO   \n",
       "4          2         Región de Antofagasta           22       EL LOA   \n",
       "\n",
       "                                            geometry  \n",
       "0  MULTIPOLYGON (((-7870470.961 -2985679.186, -78...  \n",
       "1  POLYGON ((-7748273.366 -2108728.860, -7747986....  \n",
       "2  MULTIPOLYGON (((-7868800.549 -3017643.396, -78...  \n",
       "3  MULTIPOLYGON (((-7932747.769 -3311218.615, -79...  \n",
       "4  POLYGON ((-7615643.575 -2384075.436, -7615022....  "
      ]
     },
     "execution_count": 11,
     "metadata": {},
     "output_type": "execute_result"
    }
   ],
   "source": [
    "gdf = gpd.read_file(\"geo_shapes/Chile_provinces.zip\")\n",
    "gdf[\"Provincia\"] = gdf[\"Provincia\"].str.upper().str.normalize(\"NFKD\").str.encode(\"ascii\", errors=\"ignore\").str.decode(\"utf-8\")\n",
    "gdf = gdf.rename(columns={\n",
    "    \"Provincia\": \"province\",\n",
    "    \"codregion\": \"region_id\",\n",
    "    \"cod_prov\": \"province_id\",\n",
    "    \"Region\": \"region\"\n",
    "})\n",
    "gdf = gdf[[\"region_id\", \"region\", \"province_id\", \"province\", \"geometry\"]]\n",
    "\n",
    "gdf.to_file(\"geo_shapes/Chile_province.gpkg\", driver=\"GPKG\")  \n",
    "gdf.head()"
   ]
  },
  {
   "cell_type": "code",
   "execution_count": 15,
   "metadata": {},
   "outputs": [],
   "source": [
    "test = [\n",
    "      \"EDUARDO ARTES BRICHETTI\",\n",
    "      \"GABRIEL BORIC FONT\",\n",
    "      \"MARCO ENRIQUEZ-OMINAMI GUMUCIO\",\n",
    "      \"YASNA PROVOSTE CAMPILLAY\",\n",
    "      \"FRANCO PARISI FERNANDEZ\",\n",
    "      \"SEBASTIAN SICHEL RAMIREZ\",\n",
    "      \"JOSE ANTONIO KAST RIST\"\n",
    "    ]\n",
    "\n",
    "idx = test.index(\"MARCO ENRIQUEZ-OMINAMI GUMUCIO\")"
   ]
  },
  {
   "cell_type": "code",
   "execution_count": 19,
   "metadata": {},
   "outputs": [
    {
     "data": {
      "text/plain": [
       "(['EDUARDO ARTES BRICHETTI', 'GABRIEL BORIC FONT'],\n",
       " ['YASNA PROVOSTE CAMPILLAY',\n",
       "  'FRANCO PARISI FERNANDEZ',\n",
       "  'SEBASTIAN SICHEL RAMIREZ',\n",
       "  'JOSE ANTONIO KAST RIST'])"
      ]
     },
     "execution_count": 19,
     "metadata": {},
     "output_type": "execute_result"
    }
   ],
   "source": [
    "test[:idx], test[idx+1:]"
   ]
  },
  {
   "cell_type": "code",
   "execution_count": null,
   "metadata": {},
   "outputs": [],
   "source": []
  }
 ],
 "metadata": {
  "kernelspec": {
   "display_name": "Python 3 (ipykernel)",
   "language": "python",
   "name": "python3"
  },
  "language_info": {
   "codemirror_mode": {
    "name": "ipython",
    "version": 3
   },
   "file_extension": ".py",
   "mimetype": "text/x-python",
   "name": "python",
   "nbconvert_exporter": "python",
   "pygments_lexer": "ipython3",
   "version": "3.9.4"
  }
 },
 "nbformat": 4,
 "nbformat_minor": 2
}
