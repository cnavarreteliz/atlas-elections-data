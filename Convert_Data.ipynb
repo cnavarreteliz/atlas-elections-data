{
 "cells": [
  {
   "cell_type": "code",
   "execution_count": 2,
   "metadata": {},
   "outputs": [],
   "source": [
    "import pandas as pd\n",
    "\n",
    "from epitools import get_data"
   ]
  },
  {
   "cell_type": "code",
   "execution_count": 11,
   "metadata": {},
   "outputs": [
    {
     "data": {
      "text/html": [
       "<div>\n",
       "<style scoped>\n",
       "    .dataframe tbody tr th:only-of-type {\n",
       "        vertical-align: middle;\n",
       "    }\n",
       "\n",
       "    .dataframe tbody tr th {\n",
       "        vertical-align: top;\n",
       "    }\n",
       "\n",
       "    .dataframe thead th {\n",
       "        text-align: right;\n",
       "    }\n",
       "</style>\n",
       "<table border=\"1\" class=\"dataframe\">\n",
       "  <thead>\n",
       "    <tr style=\"text-align: right;\">\n",
       "      <th></th>\n",
       "      <th>department_id</th>\n",
       "      <th>epi</th>\n",
       "      <th>between</th>\n",
       "      <th>within</th>\n",
       "      <th>year</th>\n",
       "    </tr>\n",
       "  </thead>\n",
       "  <tbody>\n",
       "    <tr>\n",
       "      <th>0</th>\n",
       "      <td>01</td>\n",
       "      <td>0.930960</td>\n",
       "      <td>0.902538</td>\n",
       "      <td>0.028422</td>\n",
       "      <td>2002</td>\n",
       "    </tr>\n",
       "    <tr>\n",
       "      <th>1</th>\n",
       "      <td>02</td>\n",
       "      <td>0.927785</td>\n",
       "      <td>0.890860</td>\n",
       "      <td>0.036926</td>\n",
       "      <td>2002</td>\n",
       "    </tr>\n",
       "    <tr>\n",
       "      <th>2</th>\n",
       "      <td>03</td>\n",
       "      <td>0.938693</td>\n",
       "      <td>0.904055</td>\n",
       "      <td>0.034638</td>\n",
       "      <td>2002</td>\n",
       "    </tr>\n",
       "    <tr>\n",
       "      <th>3</th>\n",
       "      <td>04</td>\n",
       "      <td>0.946616</td>\n",
       "      <td>0.909911</td>\n",
       "      <td>0.036705</td>\n",
       "      <td>2002</td>\n",
       "    </tr>\n",
       "    <tr>\n",
       "      <th>4</th>\n",
       "      <td>05</td>\n",
       "      <td>0.952332</td>\n",
       "      <td>0.915178</td>\n",
       "      <td>0.037153</td>\n",
       "      <td>2002</td>\n",
       "    </tr>\n",
       "  </tbody>\n",
       "</table>\n",
       "</div>"
      ],
      "text/plain": [
       "  department_id       epi   between    within  year\n",
       "0            01  0.930960  0.902538  0.028422  2002\n",
       "1            02  0.927785  0.890860  0.036926  2002\n",
       "2            03  0.938693  0.904055  0.034638  2002\n",
       "3            04  0.946616  0.909911  0.036705  2002\n",
       "4            05  0.952332  0.915178  0.037153  2002"
      ]
     },
     "execution_count": 11,
     "metadata": {},
     "output_type": "execute_result"
    }
   ],
   "source": [
    "output = []\n",
    "method = \"nv\"\n",
    "\n",
    "for year in [2002, 2007, 2012, 2017, 2022]:\n",
    "    df_tmp = get_data(\n",
    "        country=\"France\",\n",
    "        aggregation=\"department_id\",\n",
    "        election=\"first_round\",\n",
    "        year=year\n",
    "    )\n",
    "    output.append(df_tmp)\n",
    "\n",
    "df_dv = pd.concat(output, ignore_index=True)\n",
    "df_dv = df_dv.rename(columns={\"epi\": \"epi\", \"epi_between\": \"between\", \"epi_within\": \"within\"})\n",
    "\n",
    "# df_dv[\"is_purple\"] = df_dv[\"is_purple\"].fillna(0)\n",
    "df_dv.head()"
   ]
  },
  {
   "cell_type": "code",
   "execution_count": 12,
   "metadata": {},
   "outputs": [],
   "source": [
    "df_dv.rename(columns={\"department_id\": \"name\"}).to_json(\"../election-polarization/public/data.json\", orient=\"records\")"
   ]
  }
 ],
 "metadata": {
  "kernelspec": {
   "display_name": "Python 3",
   "language": "python",
   "name": "python3"
  },
  "language_info": {
   "codemirror_mode": {
    "name": "ipython",
    "version": 3
   },
   "file_extension": ".py",
   "mimetype": "text/x-python",
   "name": "python",
   "nbconvert_exporter": "python",
   "pygments_lexer": "ipython3",
   "version": "3.10.8"
  },
  "orig_nbformat": 4
 },
 "nbformat": 4,
 "nbformat_minor": 2
}
