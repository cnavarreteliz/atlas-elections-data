{
 "cells": [
  {
   "cell_type": "code",
   "execution_count": 16,
   "metadata": {},
   "outputs": [],
   "source": [
    "import requests\n",
    "import pandas as pd\n",
    "import os\n",
    "\n",
    "os.chdir(\"../\")\n",
    "from glob import glob"
   ]
  },
  {
   "cell_type": "code",
   "execution_count": 43,
   "metadata": {},
   "outputs": [
    {
     "data": {
      "text/html": [
       "<div>\n",
       "<style scoped>\n",
       "    .dataframe tbody tr th:only-of-type {\n",
       "        vertical-align: middle;\n",
       "    }\n",
       "\n",
       "    .dataframe tbody tr th {\n",
       "        vertical-align: top;\n",
       "    }\n",
       "\n",
       "    .dataframe thead th {\n",
       "        text-align: right;\n",
       "    }\n",
       "</style>\n",
       "<table border=\"1\" class=\"dataframe\">\n",
       "  <thead>\n",
       "    <tr style=\"text-align: right;\">\n",
       "      <th></th>\n",
       "      <th>year</th>\n",
       "      <th>st</th>\n",
       "      <th>state</th>\n",
       "      <th>atkin05</th>\n",
       "      <th>gini</th>\n",
       "      <th>rmeandev</th>\n",
       "      <th>theil</th>\n",
       "    </tr>\n",
       "  </thead>\n",
       "  <tbody>\n",
       "    <tr>\n",
       "      <th>0</th>\n",
       "      <td>1917</td>\n",
       "      <td>0</td>\n",
       "      <td>UNITED STATES</td>\n",
       "      <td>0.255703</td>\n",
       "      <td>0.507681</td>\n",
       "      <td>0.792800</td>\n",
       "      <td>0.844601</td>\n",
       "    </tr>\n",
       "    <tr>\n",
       "      <th>1</th>\n",
       "      <td>1917</td>\n",
       "      <td>1</td>\n",
       "      <td>ALABAMA</td>\n",
       "      <td>0.156439</td>\n",
       "      <td>0.399792</td>\n",
       "      <td>0.608259</td>\n",
       "      <td>0.446908</td>\n",
       "    </tr>\n",
       "    <tr>\n",
       "      <th>2</th>\n",
       "      <td>1917</td>\n",
       "      <td>3</td>\n",
       "      <td>ARIZONA</td>\n",
       "      <td>0.159122</td>\n",
       "      <td>0.399658</td>\n",
       "      <td>0.617671</td>\n",
       "      <td>0.450125</td>\n",
       "    </tr>\n",
       "    <tr>\n",
       "      <th>3</th>\n",
       "      <td>1917</td>\n",
       "      <td>4</td>\n",
       "      <td>ARKANSAS</td>\n",
       "      <td>0.127598</td>\n",
       "      <td>0.376483</td>\n",
       "      <td>0.561483</td>\n",
       "      <td>0.324998</td>\n",
       "    </tr>\n",
       "    <tr>\n",
       "      <th>4</th>\n",
       "      <td>1917</td>\n",
       "      <td>5</td>\n",
       "      <td>CALIFORNIA</td>\n",
       "      <td>0.192735</td>\n",
       "      <td>0.449363</td>\n",
       "      <td>0.687849</td>\n",
       "      <td>0.553006</td>\n",
       "    </tr>\n",
       "  </tbody>\n",
       "</table>\n",
       "</div>"
      ],
      "text/plain": [
       "   year  st          state   atkin05      gini  rmeandev     theil\n",
       "0  1917   0  UNITED STATES  0.255703  0.507681  0.792800  0.844601\n",
       "1  1917   1        ALABAMA  0.156439  0.399792  0.608259  0.446908\n",
       "2  1917   3        ARIZONA  0.159122  0.399658  0.617671  0.450125\n",
       "3  1917   4       ARKANSAS  0.127598  0.376483  0.561483  0.324998\n",
       "4  1917   5     CALIFORNIA  0.192735  0.449363  0.687849  0.553006"
      ]
     },
     "execution_count": 43,
     "metadata": {},
     "output_type": "execute_result"
    }
   ],
   "source": [
    "df_a = pd.read_excel(\"https://www.shsu.edu/eco_mwf/Frank_Gini_2018.xls\")\n",
    "# df_a = df_a[[\"Year\", \"State\", \"Gini\", \"\"]]\n",
    "df_a.columns = [x.lower() for x in df_a.columns]\n",
    "df_a[\"state\"] = df_a[\"state\"].str.upper()\n",
    "df_a.head()"
   ]
  },
  {
   "cell_type": "code",
   "execution_count": 38,
   "metadata": {},
   "outputs": [
    {
     "data": {
      "text/plain": [
       "['data_external/United States\\\\ACSDT5Y2010.B19083-2022-11-23T092737.csv',\n",
       " 'data_external/United States\\\\ACSDT5Y2011.B19083-2022-11-23T092730.csv',\n",
       " 'data_external/United States\\\\ACSDT5Y2012.B19083-2022-11-23T092458.csv',\n",
       " 'data_external/United States\\\\ACSDT5Y2013.B19083-2022-11-23T092713.csv',\n",
       " 'data_external/United States\\\\ACSDT5Y2014.B19083-2022-11-23T092706.csv',\n",
       " 'data_external/United States\\\\ACSDT5Y2015.B19083-2022-11-23T092656.csv',\n",
       " 'data_external/United States\\\\ACSDT5Y2016.B19083-2022-11-23T092427.csv',\n",
       " 'data_external/United States\\\\ACSDT5Y2017.B19083-2022-11-23T092646.csv',\n",
       " 'data_external/United States\\\\ACSDT5Y2018.B19083-2022-11-23T092638.csv',\n",
       " 'data_external/United States\\\\ACSDT5Y2019.B19083-2022-11-23T092628.csv',\n",
       " 'data_external/United States\\\\ACSDT5Y2020.B19083-2022-11-23T092345.csv']"
      ]
     },
     "execution_count": 38,
     "metadata": {},
     "output_type": "execute_result"
    }
   ],
   "source": [
    "glob(\"data_external/United States/ACSDT5Y*.B19083-*\")"
   ]
  },
  {
   "cell_type": "code",
   "execution_count": 42,
   "metadata": {},
   "outputs": [],
   "source": [
    "output = []\n",
    "for file in glob(\"data_external/United States/ACSDT5Y*.B19083-*\"):\n",
    "    year = file[35:39]\n",
    "    df_tmp = pd.read_csv(file)\n",
    "    df_tmp[\"year\"] = year\n",
    "    output.append(df_tmp)\n",
    "\n",
    "df = pd.concat(output, ignore_index=True)\n",
    "output = []\n",
    "i = 0\n",
    "while 3*i < df.shape[0]:\n",
    "    data = df.iloc[3*i:3*i + 3]\n",
    "\n",
    "    state = data.iloc[0][\"Label (Grouping)\"]\n",
    "    year = data.iloc[0][\"year\"]\n",
    "    value = data.iloc[1][\"Gini Index\"]\n",
    "    moe = data.iloc[2][\"Gini Index\"]\n",
    "\n",
    "    output.append({\n",
    "        \"state\": state.upper(),\n",
    "        \"gini\": value,\n",
    "        \"moe\": moe,\n",
    "        \"year\": year\n",
    "    })\n",
    "    i += 1\n",
    "\n",
    "df_b = pd.DataFrame(output)\n",
    "df_b[\"year\"] = df_b[\"year\"].astype(int)\n",
    "df_b.head()\n",
    "\n",
    "df_b = df_a.copy()\n",
    "df_b.loc[df_b[\"year\"] == 2010, \"year\"] = 2008\n",
    "df_b.tail()\n",
    "df_b[\"gini\"] = df_b[\"gini\"].astype(float)\n",
    "\n",
    "df_b.to_csv(\"data_curated/United States/Income_Inequality.csv\", index=False)\n"
   ]
  },
  {
   "cell_type": "code",
   "execution_count": 45,
   "metadata": {},
   "outputs": [
    {
     "data": {
      "text/html": [
       "<div>\n",
       "<style scoped>\n",
       "    .dataframe tbody tr th:only-of-type {\n",
       "        vertical-align: middle;\n",
       "    }\n",
       "\n",
       "    .dataframe tbody tr th {\n",
       "        vertical-align: top;\n",
       "    }\n",
       "\n",
       "    .dataframe thead th {\n",
       "        text-align: right;\n",
       "    }\n",
       "</style>\n",
       "<table border=\"1\" class=\"dataframe\">\n",
       "  <thead>\n",
       "    <tr style=\"text-align: right;\">\n",
       "      <th></th>\n",
       "      <th>gini_x</th>\n",
       "      <th>gini_y</th>\n",
       "    </tr>\n",
       "  </thead>\n",
       "  <tbody>\n",
       "    <tr>\n",
       "      <th>gini_x</th>\n",
       "      <td>1.000000</td>\n",
       "      <td>0.998964</td>\n",
       "    </tr>\n",
       "    <tr>\n",
       "      <th>gini_y</th>\n",
       "      <td>0.998964</td>\n",
       "      <td>1.000000</td>\n",
       "    </tr>\n",
       "  </tbody>\n",
       "</table>\n",
       "</div>"
      ],
      "text/plain": [
       "          gini_x    gini_y\n",
       "gini_x  1.000000  0.998964\n",
       "gini_y  0.998964  1.000000"
      ]
     },
     "execution_count": 45,
     "metadata": {},
     "output_type": "execute_result"
    }
   ],
   "source": [
    "pd.merge(df_a, df_b, on=[\"state\", \"year\"])[[\"gini_x\", \"gini_y\"]].astype(float).corr()"
   ]
  },
  {
   "cell_type": "code",
   "execution_count": 44,
   "metadata": {},
   "outputs": [],
   "source": [
    "df_c = df_a.copy()\n",
    "df_c.loc[df_c[\"year\"] == 2018, \"year\"] = 2020\n",
    "df_c.tail()\n",
    "\n",
    "df_c.to_csv(\"data_curated/United States/Income_Inequality.csv\", index=False)"
   ]
  },
  {
   "cell_type": "code",
   "execution_count": 36,
   "metadata": {},
   "outputs": [
    {
     "data": {
      "text/plain": [
       "array([1917, 1918, 1919, 1920, 1921, 1922, 1923, 1924, 1925, 1926, 1927,\n",
       "       1928, 1929, 1930, 1931, 1932, 1933, 1934, 1935, 1936, 1937, 1938,\n",
       "       1939, 1940, 1941, 1942, 1943, 1944, 1945, 1946, 1947, 1948, 1949,\n",
       "       1950, 1951, 1952, 1953, 1954, 1955, 1956, 1957, 1958, 1959, 1960,\n",
       "       1961, 1962, 1963, 1964, 1965, 1966, 1967, 1968, 1969, 1970, 1971,\n",
       "       1972, 1973, 1974, 1975, 1976, 1977, 1978, 1979, 1980, 1981, 1982,\n",
       "       1983, 1984, 1985, 1986, 1987, 1988, 1989, 1990, 1991, 1992, 1993,\n",
       "       1994, 1995, 1996, 1997, 1998, 1999, 2000, 2001, 2002, 2003, 2004,\n",
       "       2005, 2006, 2007, 2008, 2009, 2010, 2011, 2012, 2013, 2014, 2015,\n",
       "       2016, 2017, 2020], dtype=int64)"
      ]
     },
     "execution_count": 36,
     "metadata": {},
     "output_type": "execute_result"
    }
   ],
   "source": [
    "df_c.year.unique()"
   ]
  },
  {
   "cell_type": "code",
   "execution_count": 30,
   "metadata": {},
   "outputs": [],
   "source": [
    "df = pd.concat([df_a[df_a[\"year\"] < 2019], df_b], ignore_index=True)\n",
    "df[\"gini\"] = df[\"gini\"].astype(float)\n",
    "df.to_csv(\"data_curated/United States/Income_Inequality.csv\", index=False)"
   ]
  }
 ],
 "metadata": {
  "kernelspec": {
   "display_name": "Python 3",
   "language": "python",
   "name": "python3"
  },
  "language_info": {
   "codemirror_mode": {
    "name": "ipython",
    "version": 3
   },
   "file_extension": ".py",
   "mimetype": "text/x-python",
   "name": "python",
   "nbconvert_exporter": "python",
   "pygments_lexer": "ipython3",
   "version": "3.10.8"
  },
  "orig_nbformat": 4,
  "vscode": {
   "interpreter": {
    "hash": "369f2c481f4da34e4445cda3fffd2e751bd1c4d706f27375911949ba6bb62e1c"
   }
  }
 },
 "nbformat": 4,
 "nbformat_minor": 2
}
