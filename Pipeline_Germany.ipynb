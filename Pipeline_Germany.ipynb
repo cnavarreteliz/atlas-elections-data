{
 "cells": [
  {
   "cell_type": "code",
   "execution_count": 5,
   "metadata": {},
   "outputs": [],
   "source": [
    "import pandas as pd\n",
    "from zipfile import ZipFile"
   ]
  },
  {
   "cell_type": "code",
   "execution_count": 35,
   "metadata": {},
   "outputs": [],
   "source": [
    "year = 2021"
   ]
  },
  {
   "cell_type": "code",
   "execution_count": 47,
   "metadata": {},
   "outputs": [],
   "source": [
    "df = pd.read_csv(ZipFile(\"data/Germany/2021.zip\").open(\"btw21_wbz_ergebnisse.csv\"), delimiter=\";\")\n",
    "df = df[~df[\"Land\"].isna()]\n",
    "df[\"polling_id\"] = df[\"Wahlkreis\"].astype(int).astype(str) + df[\"Land\"].astype(int).astype(str) \\\n",
    "    + df[\"Gemeinde\"].astype(int).astype(str) + df[\"Wahlbezirk\"].astype(str) \\\n",
    "+ df[\"Bezirksart\"].astype(int).astype(str)"
   ]
  },
  {
   "cell_type": "code",
   "execution_count": 10,
   "metadata": {},
   "outputs": [
    {
     "data": {
      "text/plain": [
       "['Wahlkreis',\n",
       " 'Land',\n",
       " 'Regierungsbezirk',\n",
       " 'Kreis',\n",
       " 'Verbandsgemeinde',\n",
       " 'Gemeinde',\n",
       " 'Kennziffer Urnenwahlbezirke nach § 68 BWO',\n",
       " 'Kennziffer Briefwahlzugehörigkeit',\n",
       " 'Gemeinde Name',\n",
       " 'Wahlbezirk',\n",
       " 'Bezirksart',\n",
       " 'Wahlberechtigte (A)',\n",
       " 'Wahlberechtigte ohne Sperrvermerk (A1)',\n",
       " 'Wahlberechtigte mit Sperrvermerk (A2)',\n",
       " 'Wahlberechtigte nach § 25 Abs. 2 BWO (A3)',\n",
       " 'Wählende (B)',\n",
       " 'Wählende mit Wahlschein (B1)',\n",
       " 'Ungültige',\n",
       " 'Gültige',\n",
       " 'CDU',\n",
       " 'SPD',\n",
       " 'AfD',\n",
       " 'FDP',\n",
       " 'DIE LINKE',\n",
       " 'GRÜNE',\n",
       " 'CSU',\n",
       " 'FREIE WÄHLER',\n",
       " 'Die PARTEI',\n",
       " 'Tierschutzpartei',\n",
       " 'NPD',\n",
       " 'PIRATEN',\n",
       " 'ÖDP',\n",
       " 'V-Partei³',\n",
       " 'DiB',\n",
       " 'BP',\n",
       " 'Tierschutzallianz',\n",
       " 'MLPD',\n",
       " 'Gesundheitsforschung',\n",
       " 'MENSCHLICHE WELT',\n",
       " 'DKP',\n",
       " 'Die Grauen',\n",
       " 'BüSo',\n",
       " 'Die Humanisten',\n",
       " 'Gartenpartei',\n",
       " 'du.',\n",
       " 'dieBasis',\n",
       " 'Bündnis C',\n",
       " 'BÜRGERBEWEGUNG',\n",
       " 'III. Weg',\n",
       " 'Bündnis21',\n",
       " 'LIEBE',\n",
       " 'LKR',\n",
       " 'SSW',\n",
       " 'Team Todenhöfer',\n",
       " 'UNABHÄNGIGE',\n",
       " 'Volt',\n",
       " 'Volksabstimmung',\n",
       " 'B*',\n",
       " 'sonstige',\n",
       " 'FAMILIE',\n",
       " 'Graue Panther',\n",
       " 'KlimalisteBW',\n",
       " 'THP',\n",
       " 'Übrige',\n",
       " 'Ungültige.1',\n",
       " 'Gültige.1',\n",
       " 'CDU.1',\n",
       " 'SPD.1',\n",
       " 'AfD.1',\n",
       " 'FDP.1',\n",
       " 'DIE LINKE.1',\n",
       " 'GRÜNE.1',\n",
       " 'CSU.1',\n",
       " 'FREIE WÄHLER.1',\n",
       " 'Die PARTEI.1',\n",
       " 'Tierschutzpartei.1',\n",
       " 'NPD.1',\n",
       " 'PIRATEN.1',\n",
       " 'ÖDP.1',\n",
       " 'V-Partei³.1',\n",
       " 'DiB.1',\n",
       " 'BP.1',\n",
       " 'Tierschutzallianz.1',\n",
       " 'MLPD.1',\n",
       " 'Gesundheitsforschung.1',\n",
       " 'MENSCHLICHE WELT.1',\n",
       " 'DKP.1',\n",
       " 'Die Grauen.1',\n",
       " 'BüSo.1',\n",
       " 'Die Humanisten.1',\n",
       " 'Gartenpartei.1',\n",
       " 'du..1',\n",
       " 'SGP',\n",
       " 'dieBasis.1',\n",
       " 'Bündnis C.1',\n",
       " 'BÜRGERBEWEGUNG.1',\n",
       " 'III. Weg.1',\n",
       " 'Bündnis21.1',\n",
       " 'LIEBE.1',\n",
       " 'LKR.1',\n",
       " 'PdF',\n",
       " 'LfK',\n",
       " 'SSW.1',\n",
       " 'Team Todenhöfer.1',\n",
       " 'UNABHÄNGIGE.1',\n",
       " 'Volt.1',\n",
       " 'Ungekürzte Wahlbezirksbezeichnung']"
      ]
     },
     "execution_count": 10,
     "metadata": {},
     "output_type": "execute_result"
    }
   ],
   "source": [
    "list(df)"
   ]
  },
  {
   "cell_type": "code",
   "execution_count": 23,
   "metadata": {},
   "outputs": [],
   "source": [
    "party = [\"CDU\",\"SPD\",\"AfD\",\"FDP\",\"DIE LINKE\",\"GRÜNE\",\"CSU\",\"FREIE WÄHLER\",\"Die PARTEI\",\"Tierschutzpartei\",\"NPD\",\"PIRATEN\",\"ÖDP\",\"V-Partei³\",\"DiB\",\"BP\",\"Tierschutzallianz\",\"MLPD\",\"Gesundheitsforschung\",\"MENSCHLICHE WELT\",\"DKP\",\"Die Grauen\",\"BüSo\",\"Die Humanisten\",\"Gartenpartei\",\"du.\",\"dieBasis\",\"Bündnis C\",\"BÜRGERBEWEGUNG\",\"III. Weg\",\"Bündnis21\",\"LIEBE\",\"LKR\",\"SSW\",\"Team Todenhöfer\",\"UNABHÄNGIGE\",\"Volt\",\"Volksabstimmung\",\"B*\",\"sonstige\",\"FAMILIE\",\"Graue Panther\",\"KlimalisteBW\",\"THP\"]"
   ]
  },
  {
   "cell_type": "code",
   "execution_count": 48,
   "metadata": {},
   "outputs": [
    {
     "data": {
      "text/html": [
       "<div>\n",
       "<style scoped>\n",
       "    .dataframe tbody tr th:only-of-type {\n",
       "        vertical-align: middle;\n",
       "    }\n",
       "\n",
       "    .dataframe tbody tr th {\n",
       "        vertical-align: top;\n",
       "    }\n",
       "\n",
       "    .dataframe thead th {\n",
       "        text-align: right;\n",
       "    }\n",
       "</style>\n",
       "<table border=\"1\" class=\"dataframe\">\n",
       "  <thead>\n",
       "    <tr style=\"text-align: right;\">\n",
       "      <th></th>\n",
       "      <th>polling_id</th>\n",
       "      <th>candidate</th>\n",
       "      <th>value</th>\n",
       "    </tr>\n",
       "  </thead>\n",
       "  <tbody>\n",
       "    <tr>\n",
       "      <th>0</th>\n",
       "      <td>110010</td>\n",
       "      <td>CDU</td>\n",
       "      <td>129</td>\n",
       "    </tr>\n",
       "    <tr>\n",
       "      <th>1</th>\n",
       "      <td>110020</td>\n",
       "      <td>CDU</td>\n",
       "      <td>114</td>\n",
       "    </tr>\n",
       "    <tr>\n",
       "      <th>2</th>\n",
       "      <td>110030</td>\n",
       "      <td>CDU</td>\n",
       "      <td>76</td>\n",
       "    </tr>\n",
       "    <tr>\n",
       "      <th>3</th>\n",
       "      <td>110040</td>\n",
       "      <td>CDU</td>\n",
       "      <td>54</td>\n",
       "    </tr>\n",
       "    <tr>\n",
       "      <th>4</th>\n",
       "      <td>110050</td>\n",
       "      <td>CDU</td>\n",
       "      <td>27</td>\n",
       "    </tr>\n",
       "  </tbody>\n",
       "</table>\n",
       "</div>"
      ],
      "text/plain": [
       "  polling_id candidate  value\n",
       "0     110010       CDU    129\n",
       "1     110020       CDU    114\n",
       "2     110030       CDU     76\n",
       "3     110040       CDU     54\n",
       "4     110050       CDU     27"
      ]
     },
     "execution_count": 48,
     "metadata": {},
     "output_type": "execute_result"
    }
   ],
   "source": [
    "df_filtered = df[[\"polling_id\"] + party].melt(id_vars=[\"polling_id\"], var_name=\"candidate\")\n",
    "df_filtered[\"value\"] = df_filtered[\"value\"].fillna(0).astype(int)\n",
    "df_filtered.head()"
   ]
  },
  {
   "cell_type": "code",
   "execution_count": 49,
   "metadata": {},
   "outputs": [],
   "source": [
    "tt = df_filtered.groupby([\"polling_id\", \"candidate\"]).agg({\"value\": \"sum\"})\n",
    "tt[\"rate\"] = tt.groupby(level=[0]).apply(lambda x: x/x.sum())\n",
    "tt = tt.reset_index()\n",
    "tt = tt[[\"polling_id\", \"candidate\", \"rate\"]]"
   ]
  },
  {
   "cell_type": "code",
   "execution_count": 50,
   "metadata": {},
   "outputs": [],
   "source": [
    "df_filtered = pd.merge(df_filtered, tt, on=[\"polling_id\", \"candidate\"])"
   ]
  },
  {
   "cell_type": "code",
   "execution_count": 51,
   "metadata": {},
   "outputs": [],
   "source": [
    "df_filtered.to_csv(f\"data_output/Germany/{year}.csv.gz\", compression=\"gzip\", index=False)"
   ]
  },
  {
   "cell_type": "code",
   "execution_count": 40,
   "metadata": {},
   "outputs": [
    {
     "data": {
      "text/plain": [
       "array([ 1., 13.,  2.,  3.,  4., 12., 15., 11.,  5., 14.,  6., 16.,  7.,\n",
       "        9.,  8., 10.])"
      ]
     },
     "execution_count": 40,
     "metadata": {},
     "output_type": "execute_result"
    }
   ],
   "source": [
    "df.Land.unique()"
   ]
  },
  {
   "cell_type": "code",
   "execution_count": 52,
   "metadata": {},
   "outputs": [],
   "source": [
    "df = df.rename(columns={\n",
    "    \"Wahlkreis\": \"constituency\",\n",
    "    \"Land\": \"state_id\",\n",
    "    \"Gemeinde Name\": \"municipality\",\n",
    "    \"Gemeinde\": \"municipality_id\"\n",
    "})\n",
    "df[[\"constituency\", \"state_id\"]] = df[[\"constituency\", \"state_id\"]].astype(int)\n",
    "df_location = df[[\"polling_id\", \"constituency\", \"state_id\"]].to_csv(f\"data_output/Germany/{year}_location.csv.gz\", compression=\"gzip\", index=False)"
   ]
  },
  {
   "cell_type": "code",
   "execution_count": null,
   "metadata": {},
   "outputs": [],
   "source": [
    "df_location = df[[\"polling_id\", \"state_id\", \"province_id\", \"commune_id\", \"district_commune_id\"]].to_csv(f\"data_output/Spain/{year}_{month}_location.csv.gz\", compression=\"gzip\", index=False)"
   ]
  }
 ],
 "metadata": {
  "kernelspec": {
   "display_name": "Python 3 (ipykernel)",
   "language": "python",
   "name": "python3"
  },
  "language_info": {
   "codemirror_mode": {
    "name": "ipython",
    "version": 3
   },
   "file_extension": ".py",
   "mimetype": "text/x-python",
   "name": "python",
   "nbconvert_exporter": "python",
   "pygments_lexer": "ipython3",
   "version": "3.9.4"
  }
 },
 "nbformat": 4,
 "nbformat_minor": 2
}
