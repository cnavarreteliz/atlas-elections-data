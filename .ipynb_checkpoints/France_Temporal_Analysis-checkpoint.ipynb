{
 "cells": [
  {
   "cell_type": "code",
   "execution_count": 6,
   "metadata": {},
   "outputs": [
    {
     "ename": "ModuleNotFoundError",
     "evalue": "No module named 'geopandas'",
     "output_type": "error",
     "traceback": [
      "\u001b[1;31m---------------------------------------------------------------------------\u001b[0m",
      "\u001b[1;31mModuleNotFoundError\u001b[0m                       Traceback (most recent call last)",
      "Input \u001b[1;32mIn [6]\u001b[0m, in \u001b[0;36m<cell line: 1>\u001b[1;34m()\u001b[0m\n\u001b[1;32m----> 1\u001b[0m \u001b[38;5;28;01mimport\u001b[39;00m \u001b[38;5;21;01mgeopandas\u001b[39;00m \u001b[38;5;28;01mas\u001b[39;00m \u001b[38;5;21;01mgpd\u001b[39;00m\n\u001b[0;32m      2\u001b[0m \u001b[38;5;28;01mimport\u001b[39;00m \u001b[38;5;21;01mmatplotlib\u001b[39;00m\u001b[38;5;21;01m.\u001b[39;00m\u001b[38;5;21;01mpyplot\u001b[39;00m \u001b[38;5;28;01mas\u001b[39;00m \u001b[38;5;21;01mplt\u001b[39;00m\n\u001b[0;32m      3\u001b[0m \u001b[38;5;28;01mimport\u001b[39;00m \u001b[38;5;21;01mpandas\u001b[39;00m \u001b[38;5;28;01mas\u001b[39;00m \u001b[38;5;21;01mpd\u001b[39;00m\n",
      "\u001b[1;31mModuleNotFoundError\u001b[0m: No module named 'geopandas'"
     ]
    }
   ],
   "source": [
    "import geopandas as gpd\n",
    "import matplotlib.pyplot as plt\n",
    "import pandas as pd\n",
    "import numpy as np\n",
    "import seaborn as sns\n",
    "from matplotlib.colors import TwoSlopeNorm"
   ]
  },
  {
   "cell_type": "code",
   "execution_count": null,
   "metadata": {},
   "outputs": [],
   "source": [
    "gdf = gpd.read_file(f\"geo_shapes/France_department.gpkg\")\n",
    "gdf.head()"
   ]
  },
  {
   "cell_type": "code",
   "execution_count": 5,
   "metadata": {},
   "outputs": [
    {
     "name": "stdout",
     "output_type": "stream",
     "text": [
      "Requirement already satisfied: geopandas in c:\\users\\cnava\\appdata\\roaming\\python\\python310\\site-packages (0.12.0)\n",
      "Requirement already satisfied: pandas>=1.0.0 in c:\\users\\cnava\\appdata\\roaming\\python\\python310\\site-packages (from geopandas) (1.5.1)\n",
      "Requirement already satisfied: pyproj>=2.6.1.post1 in c:\\users\\cnava\\appdata\\roaming\\python\\python310\\site-packages (from geopandas) (3.4.0)\n",
      "Requirement already satisfied: packaging in c:\\users\\cnava\\appdata\\roaming\\python\\python310\\site-packages (from geopandas) (21.3)\n",
      "Requirement already satisfied: fiona>=1.8 in c:\\users\\cnava\\appdata\\roaming\\python\\python310\\site-packages (from geopandas) (1.8.22)\n",
      "Requirement already satisfied: shapely<2,>=1.7 in c:\\users\\cnava\\appdata\\roaming\\python\\python310\\site-packages (from geopandas) (1.8.5.post1)\n",
      "Requirement already satisfied: attrs>=17 in c:\\users\\cnava\\appdata\\roaming\\python\\python310\\site-packages (from fiona>=1.8->geopandas) (22.1.0)\n",
      "Requirement already satisfied: munch in c:\\users\\cnava\\appdata\\roaming\\python\\python310\\site-packages (from fiona>=1.8->geopandas) (2.5.0)\n",
      "Requirement already satisfied: cligj>=0.5 in c:\\users\\cnava\\appdata\\roaming\\python\\python310\\site-packages (from fiona>=1.8->geopandas) (0.7.2)\n",
      "Requirement already satisfied: setuptools in c:\\python310\\lib\\site-packages (from fiona>=1.8->geopandas) (63.2.0)\n",
      "Requirement already satisfied: click>=4.0 in c:\\users\\cnava\\appdata\\roaming\\python\\python310\\site-packages (from fiona>=1.8->geopandas) (8.1.3)\n",
      "Requirement already satisfied: certifi in c:\\python310\\lib\\site-packages (from fiona>=1.8->geopandas) (2022.9.24)\n",
      "Requirement already satisfied: six>=1.7 in c:\\users\\cnava\\appdata\\roaming\\python\\python310\\site-packages (from fiona>=1.8->geopandas) (1.16.0)\n",
      "Requirement already satisfied: click-plugins>=1.0 in c:\\users\\cnava\\appdata\\roaming\\python\\python310\\site-packages (from fiona>=1.8->geopandas) (1.1.1)\n",
      "Requirement already satisfied: python-dateutil>=2.8.1 in c:\\users\\cnava\\appdata\\roaming\\python\\python310\\site-packages (from pandas>=1.0.0->geopandas) (2.8.2)\n",
      "Requirement already satisfied: pytz>=2020.1 in c:\\python310\\lib\\site-packages (from pandas>=1.0.0->geopandas) (2022.5)\n",
      "Requirement already satisfied: numpy>=1.21.0 in c:\\python310\\lib\\site-packages (from pandas>=1.0.0->geopandas) (1.23.4)\n",
      "Requirement already satisfied: pyparsing!=3.0.5,>=2.0.2 in c:\\users\\cnava\\appdata\\roaming\\python\\python310\\site-packages (from packaging->geopandas) (3.0.9)\n",
      "Requirement already satisfied: colorama in c:\\users\\cnava\\appdata\\roaming\\python\\python310\\site-packages (from click>=4.0->fiona>=1.8->geopandas) (0.4.5)\n"
     ]
    },
    {
     "name": "stderr",
     "output_type": "stream",
     "text": [
      "WARNING: Ignoring invalid distribution -ip (c:\\python310\\lib\\site-packages)\n",
      "WARNING: Ignoring invalid distribution - (c:\\python310\\lib\\site-packages)\n",
      "WARNING: Ignoring invalid distribution -ip (c:\\python310\\lib\\site-packages)\n",
      "WARNING: Ignoring invalid distribution - (c:\\python310\\lib\\site-packages)\n",
      "WARNING: Ignoring invalid distribution -ip (c:\\python310\\lib\\site-packages)\n",
      "WARNING: Ignoring invalid distribution - (c:\\python310\\lib\\site-packages)\n",
      "WARNING: Ignoring invalid distribution -ip (c:\\python310\\lib\\site-packages)\n",
      "WARNING: Ignoring invalid distribution - (c:\\python310\\lib\\site-packages)\n"
     ]
    }
   ],
   "source": [
    "!pip install geopandas --user"
   ]
  },
  {
   "cell_type": "code",
   "execution_count": null,
   "metadata": {},
   "outputs": [],
   "source": [
    "output = []\n",
    "method = \"std\"\n",
    "K = 1000\n",
    "for year in [2002, 2007, 2012, 2017, 2022]:\n",
    "    df_dv = pd.read_csv(f\"data_output/France/{year}_divisiveness_department_id_{method}.csv.gz\")\n",
    "    df = df_dv.groupby(\"department_id\").agg({\"value\": \"mean\"})# / len(df_dv.candidate.unique())\n",
    "    df = df.reset_index().dropna()\n",
    "    df[\"department_id\"] = df[\"department_id\"].astype(str).str.zfill(2)\n",
    "    df[\"year\"] = year\n",
    "    \n",
    "    output.append(df)\n",
    "    \n",
    "df_dv = pd.concat(output, ignore_index=True)\n",
    "df_dv.head()"
   ]
  },
  {
   "cell_type": "code",
   "execution_count": null,
   "metadata": {},
   "outputs": [],
   "source": [
    "fig, axs = plt.subplots(nrows=2, ncols=3, figsize=(30, 20), dpi=100)\n",
    "sns.set(font_scale=3)\n",
    "def NormalizeData(data):\n",
    "    return (data - np.min(data)) / (np.max(data) - np.min(data))\n",
    "\n",
    "for idx, year in enumerate([2002, 2007, 2012, 2017, 2022]):\n",
    "    data_tmp = df_dv[df_dv[\"year\"] == year]\n",
    "    data_tmp = pd.merge(data_tmp, gdf, on=\"department_id\")\n",
    "\n",
    "    data_tmp = gpd.GeoDataFrame(data_tmp).dropna()\n",
    "\n",
    "    data_tmp.plot(\n",
    "        column=\"value\",\n",
    "        edgecolor=\"black\",\n",
    "#         vmin=df_dv.value.min(),\n",
    "#         vmax=df_dv.value.max(),\n",
    "        lw=0.75,\n",
    "        ax=axs[int(idx/3), idx%3], \n",
    "        cmap=\"plasma\",\n",
    "        legend=False, \n",
    "        legend_kwds=dict(\n",
    "            shrink=0.3\n",
    "        )\n",
    "    )\n",
    "\n",
    "    axs[int(idx/3), idx%3].axis(\"off\")\n",
    "    axs[int(idx/3), idx%3].set_title(year)\n",
    "axs[1, 2].axis(\"off\")\n",
    "# data_tmp.plot(\n",
    "#     column=\"value\",\n",
    "#     edgecolor=\"black\",\n",
    "# #         vmin=df_dv.value.min(),\n",
    "# #         vmax=df_dv.value.max(),\n",
    "#     lw=0.2,\n",
    "#     ax=axs[1, 2], \n",
    "#     cmap=\"plasma\",\n",
    "#     legend=False, \n",
    "#     legend_kwds=dict(\n",
    "#         shrink=0.3\n",
    "#     )\n",
    "# )\n",
    "fig.tight_layout()"
   ]
  },
  {
   "cell_type": "code",
   "execution_count": null,
   "metadata": {
    "scrolled": false
   },
   "outputs": [],
   "source": [
    "sns.lineplot(x=\"year\", y=\"value\", hue=\"department_id\", data=df_dv[df_dv[\"department_id\"].isin([\"76\", \"31\", \"95\"])])"
   ]
  },
  {
   "cell_type": "code",
   "execution_count": null,
   "metadata": {},
   "outputs": [],
   "source": [
    "df_dv.sort_values(\"department_id\")"
   ]
  },
  {
   "cell_type": "code",
   "execution_count": null,
   "metadata": {},
   "outputs": [],
   "source": [
    "aa = df_dv.groupby([\"department_id\", \"year\"]).agg({\"value\": \"sum\"})\n",
    "aa[\"value_1\"] = aa.groupby(level=0)[\"value\"].shift(1)\n",
    "aa = aa.reset_index()\n",
    "aa = pd.merge(gdf, aa, on=\"department_id\")\n",
    "aa"
   ]
  },
  {
   "cell_type": "code",
   "execution_count": null,
   "metadata": {
    "scrolled": false
   },
   "outputs": [],
   "source": [
    "df_inequality = pd.read_excel(\n",
    "    \"https://www.insee.fr/fr/statistiques/fichier/5371235/RPM2021-F18.xlsx\",\n",
    "    sheet_name=\"figure 2\",\n",
    "    header=2\n",
    ").head(101)\n",
    "df_inequality = df_inequality.rename(columns={\"Code\": \"department_id\", \"Taux de pauvreté (en\\xa0%)\": \"poverty_rate\"})\n",
    "df_inequality"
   ]
  },
  {
   "cell_type": "code",
   "execution_count": null,
   "metadata": {},
   "outputs": [],
   "source": [
    "list(df_inequality)"
   ]
  },
  {
   "cell_type": "code",
   "execution_count": null,
   "metadata": {},
   "outputs": [],
   "source": [
    "dd = pd.merge(df_dv[df_dv[\"year\"] == 2022], df_inequality, on=\"department_id\")\n",
    "dd = dd[~dd[\"department_id\"].isin([\"2A\", \"2B\", \"75\", \"77\", \"78\", \"91\", \"92\", \"93\", \"94\", \"95\"])]\n",
    "sns.set(font_scale=2)\n",
    "display(dd.corr())\n",
    "g = sns.scatterplot(x=\"value\", y=\"poverty_rate\", data=dd)\n",
    "# g.set_xscale(\"log\")\n",
    "# for i, tmp in dd.iterrows():\n",
    "#     g.text(tmp[\"value\"], tmp[\"poverty_rate\"], tmp[\"department_id\"])"
   ]
  },
  {
   "cell_type": "code",
   "execution_count": null,
   "metadata": {},
   "outputs": [],
   "source": [
    "import libpysal\n",
    "\n",
    "# create weights\n",
    "W = libpysal.weights.Queen.from_dataframe(aa)\n",
    "\n",
    "# row-normalise weights\n",
    "W.transform = \"r\"\n",
    "\n",
    "# create lag\n",
    "aa[\"averaged_values\"] = libpysal.weights.lag_spatial(W, aa[\"value\"])\n",
    "# aa[\"averaged_values_1\"] = libpysal.weights.lag_spatial(W, aa[\"value_1\"].fillna(0))"
   ]
  },
  {
   "cell_type": "code",
   "execution_count": null,
   "metadata": {},
   "outputs": [],
   "source": [
    "bb = aa.groupby([\"department_id\", \"year\"]).agg({\"averaged_values\": \"sum\"})\n",
    "bb[\"averaged_values_1\"] = bb.groupby(level=0)[\"averaged_values\"].shift(1)\n",
    "bb = bb.reset_index()\n",
    "aa = pd.merge(aa, bb[[\"department_id\", \"year\", \"averaged_values_1\"]], on=[\"department_id\", \"year\"])\n",
    "aa"
   ]
  },
  {
   "cell_type": "code",
   "execution_count": null,
   "metadata": {},
   "outputs": [],
   "source": [
    "aa.to_csv(\"testlag.csv\", index=False)"
   ]
  },
  {
   "cell_type": "code",
   "execution_count": null,
   "metadata": {},
   "outputs": [],
   "source": [
    "aa = proximity(rca(rcaa), \"sqrt\").reset_index().rename(columns={\"candidate\": \"candidate_a\"})#\n",
    "aa = aa.melt(id_vars=\"candidate_a\").sort_values(\"value\")\n",
    "# aa[aa[\"value\"] > 0.7]\n",
    "aa.tail(20)"
   ]
  },
  {
   "cell_type": "code",
   "execution_count": null,
   "metadata": {},
   "outputs": [],
   "source": [
    "output = []\n",
    "\n",
    "for year in [2002, 2007, 2012, 2017, 2022]:\n",
    "    tmp = pd.read_csv(f\"data_output/France/{year}_first_round.csv.gz\")\n",
    "    tmp2 = pd.read_csv(f\"data_output/France/{year}_first_round_location.csv.gz\")\n",
    "\n",
    "    tmp = pd.merge(tmp, tmp2[[\"department_id\", \"commune_id\", \"polling_id\"]], on=\"polling_id\")\n",
    "    tmp[\"department_id\"] = tmp[\"department_id\"].astype(str).str.zfill(2)\n",
    "    tmp = tmp.reset_index().dropna()\n",
    "    tmp[\"year\"] = year\n",
    "    \n",
    "    output.append(tmp)\n",
    "    \n",
    "df = pd.concat(output, ignore_index=True)\n",
    "df.head()"
   ]
  },
  {
   "cell_type": "code",
   "execution_count": null,
   "metadata": {},
   "outputs": [],
   "source": [
    "gg.sort_values(\"growth_x\")"
   ]
  },
  {
   "cell_type": "code",
   "execution_count": null,
   "metadata": {},
   "outputs": [],
   "source": [
    "gg"
   ]
  },
  {
   "cell_type": "code",
   "execution_count": null,
   "metadata": {},
   "outputs": [],
   "source": [
    "gg.corr()"
   ]
  },
  {
   "cell_type": "code",
   "execution_count": null,
   "metadata": {},
   "outputs": [],
   "source": [
    "candidate = \"Jean-Luc MÉLENCHON\"\n",
    "\n",
    "dd = df_dv[df_dv[\"candidate\"] == candidate].pivot_table(index=\"department_id\", columns=\"year\", values=\"value\")\n",
    "\n",
    "year_curr = 2017\n",
    "year_prev = 2012\n",
    "dd[\"growth\"] = (dd[year_curr] - dd[year_prev]) / dd[year_prev]\n",
    "dd = dd[dd[\"growth\"].notna()].reset_index()\n",
    "\n",
    "ff = df.groupby([\"candidate\", \"department_id\", \"year\"]).agg({\"rate\": \"mean\"}).reset_index()\n",
    "ff = ff[ff[\"candidate\"] == candidate].pivot_table(index=\"department_id\", columns=\"year\", values=\"rate\")\n",
    "ff[\"growth\"] = (ff[year_curr] - ff[year_prev]) / ff[year_prev]\n",
    "ff = ff.reset_index()\n",
    "\n",
    "gg = pd.merge(dd, ff, on=\"department_id\")\n",
    "gg = gg[~gg[\"department_id\"].isin([\"ZP\", \"ZS\", \"ZW\", \"ZC\", \"ZB\", \"ZX\", \"ZZ\", \"ZM\", \"ZA\", \"ZN\"])]\n",
    "\n",
    "fig, ax = plt.subplots(figsize=(7, 7))\n",
    "\n",
    "sns.scatterplot(x=\"2012_x\", y=\"2017_x\", data=gg)\n",
    "\n"
   ]
  },
  {
   "cell_type": "code",
   "execution_count": null,
   "metadata": {},
   "outputs": [],
   "source": []
  },
  {
   "cell_type": "code",
   "execution_count": null,
   "metadata": {},
   "outputs": [],
   "source": [
    "gdf = gpd.read_file(f\"geo_shapes/France_department.gpkg\")\n",
    "gdf.head()"
   ]
  },
  {
   "cell_type": "code",
   "execution_count": null,
   "metadata": {},
   "outputs": [],
   "source": [
    "gg.sort_values(\"growth_y\", ascending=False)"
   ]
  },
  {
   "cell_type": "code",
   "execution_count": null,
   "metadata": {},
   "outputs": [],
   "source": [
    "dd = df[df[\"candidate\"] == \"Marine LE PEN\"].pivot_table(index=\"department_id\", columns=\"year\", values=\"value\")\n",
    "\n",
    "year_curr = 2022\n",
    "year_prev = 2017\n",
    "dd[\"growth\"] = (dd[year_curr] - dd[year_prev]) / dd[year_prev]\n",
    "dd = dd[dd[\"growth\"].notna()].reset_index()\n",
    "dd.sort_values(\"growth\", ascending=False)\n",
    "\n",
    "ee = pd.merge(dd, gdf, on=\"department_id\")\n",
    "ee = gpd.GeoDataFrame(ee)\n",
    "\n",
    "vmin, vmax, vcenter = ee[\"growth\"].min(), ee[\"growth\"].max(), 0\n",
    "norm = TwoSlopeNorm(vmin=vmin, vcenter=vcenter, vmax=vmax)\n",
    "# create a normalized colorbar\n",
    "cmap = 'seismic'\n",
    "cbar = plt.cm.ScalarMappable(norm=norm, cmap=cmap)\n",
    "\n",
    "fig, ax = plt.subplots(figsize=(10, 10))\n",
    "ee.plot(\n",
    "    column=\"growth\",\n",
    "    lw=0.5,\n",
    "    edgecolor=\"#222222\",\n",
    "    legend=True,\n",
    "    cmap=\"seismic\",\n",
    "    norm=norm,\n",
    "    legend_kwds=dict(\n",
    "        shrink=0.3\n",
    "    ),\n",
    "    ax=ax\n",
    ")\n",
    "\n",
    "plt.axis(\"off\")"
   ]
  },
  {
   "cell_type": "code",
   "execution_count": null,
   "metadata": {},
   "outputs": [],
   "source": [
    "df.groupby([\"department_id\"])[\"value\"].pct_change()"
   ]
  },
  {
   "cell_type": "code",
   "execution_count": null,
   "metadata": {},
   "outputs": [],
   "source": []
  }
 ],
 "metadata": {
  "kernelspec": {
   "display_name": "Python 3 (ipykernel)",
   "language": "python",
   "name": "python3"
  },
  "language_info": {
   "codemirror_mode": {
    "name": "ipython",
    "version": 3
   },
   "file_extension": ".py",
   "mimetype": "text/x-python",
   "name": "python",
   "nbconvert_exporter": "python",
   "pygments_lexer": "ipython3",
   "version": "3.9.12"
  }
 },
 "nbformat": 4,
 "nbformat_minor": 2
}
