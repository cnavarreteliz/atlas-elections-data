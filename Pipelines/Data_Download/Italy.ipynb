{
 "cells": [
  {
   "cell_type": "code",
   "execution_count": 1,
   "metadata": {},
   "outputs": [],
   "source": [
    "import pandas as pd\n",
    "import json"
   ]
  },
  {
   "cell_type": "code",
   "execution_count": 4,
   "metadata": {},
   "outputs": [
    {
     "data": {
      "text/html": [
       "<div>\n",
       "<style scoped>\n",
       "    .dataframe tbody tr th:only-of-type {\n",
       "        vertical-align: middle;\n",
       "    }\n",
       "\n",
       "    .dataframe tbody tr th {\n",
       "        vertical-align: top;\n",
       "    }\n",
       "\n",
       "    .dataframe thead th {\n",
       "        text-align: right;\n",
       "    }\n",
       "</style>\n",
       "<table border=\"1\" class=\"dataframe\">\n",
       "  <thead>\n",
       "    <tr style=\"text-align: right;\">\n",
       "      <th></th>\n",
       "      <th>cod</th>\n",
       "      <th>desc</th>\n",
       "      <th>tipo</th>\n",
       "      <th>tipo_comune</th>\n",
       "      <th>dt_agg</th>\n",
       "    </tr>\n",
       "  </thead>\n",
       "  <tbody>\n",
       "    <tr>\n",
       "      <th>0</th>\n",
       "      <td>010100000000000000</td>\n",
       "      <td>PIEMONTE 1</td>\n",
       "      <td>CR</td>\n",
       "      <td>None</td>\n",
       "      <td>20220926181011</td>\n",
       "    </tr>\n",
       "    <tr>\n",
       "      <th>1</th>\n",
       "      <td>010101100000000000</td>\n",
       "      <td>PIEMONTE 1 - P01</td>\n",
       "      <td>CP</td>\n",
       "      <td>None</td>\n",
       "      <td>20220926181011</td>\n",
       "    </tr>\n",
       "    <tr>\n",
       "      <th>2</th>\n",
       "      <td>010101101110000000</td>\n",
       "      <td>PIEMONTE 1 - U01 (TORINO: CIRCOSCRIZIONE 2 - S...</td>\n",
       "      <td>CU</td>\n",
       "      <td>None</td>\n",
       "      <td>20220926181011</td>\n",
       "    </tr>\n",
       "    <tr>\n",
       "      <th>3</th>\n",
       "      <td>010101101110810000</td>\n",
       "      <td>TORINO</td>\n",
       "      <td>PR</td>\n",
       "      <td>None</td>\n",
       "      <td>20220926181011</td>\n",
       "    </tr>\n",
       "    <tr>\n",
       "      <th>4</th>\n",
       "      <td>010101101110812620</td>\n",
       "      <td>TORINO</td>\n",
       "      <td>CM</td>\n",
       "      <td>M</td>\n",
       "      <td>20220926181011</td>\n",
       "    </tr>\n",
       "  </tbody>\n",
       "</table>\n",
       "</div>"
      ],
      "text/plain": [
       "                  cod                                               desc tipo  \\\n",
       "0  010100000000000000                                         PIEMONTE 1   CR   \n",
       "1  010101100000000000                                   PIEMONTE 1 - P01   CP   \n",
       "2  010101101110000000  PIEMONTE 1 - U01 (TORINO: CIRCOSCRIZIONE 2 - S...   CU   \n",
       "3  010101101110810000                                             TORINO   PR   \n",
       "4  010101101110812620                                             TORINO   CM   \n",
       "\n",
       "  tipo_comune          dt_agg  \n",
       "0        None  20220926181011  \n",
       "1        None  20220926181011  \n",
       "2        None  20220926181011  \n",
       "3        None  20220926181011  \n",
       "4           M  20220926181011  "
      ]
     },
     "execution_count": 4,
     "metadata": {},
     "output_type": "execute_result"
    }
   ],
   "source": [
    "file = open(\"../../data/Italy/camera_geopolitico_italia.json\", \"r\")\n",
    "data = json.load(file)\n",
    "\n",
    "df = pd.DataFrame(data[\"enti\"])\n",
    "df.head()"
   ]
  },
  {
   "cell_type": "code",
   "execution_count": 5,
   "metadata": {},
   "outputs": [],
   "source": [
    "def create_curl(url, custom_id):\n",
    "    return f\"curl '{url}' \\\n",
    "      -H 'authority: eleapi.interno.gov.it' \\\n",
    "      -H 'accept: application/json, text/javascript, */*; q=0.01' \\\n",
    "      -H 'accept-language: en-US,en;q=0.9,es-US;q=0.8,es;q=0.7,es-419;q=0.6,fr;q=0.5' \\\n",
    "      -H 'content-type: application/json' \\\n",
    "      -H 'origin: https://elezioni.interno.gov.it' \\\n",
    "      -H 'referer: https://elezioni.interno.gov.it/' \\\n",
    "      -H 'sec-fetch-dest: empty' \\\n",
    "      -H 'sec-fetch-mode: cors' \\\n",
    "      -H 'sec-fetch-site: same-site' \\\n",
    "      -H 'user-agent: Mozilla/5.0 (Windows NT 10.0; Win64; x64) AppleWebKit/537.36 (KHTML, like Gecko) Chrome/105.0.0.0 Safari/537.36' \\\n",
    "      --compressed > data/Italy/2022/{custom_id}.txt \\n\""
   ]
  },
  {
   "cell_type": "code",
   "execution_count": 8,
   "metadata": {},
   "outputs": [],
   "source": [
    "date = \"20180304\" # 20220925\n",
    "f = open(f\"italy_commune_{date}.sh\", \"w\")\n",
    "\n",
    "for item, tmp in df[df[\"tipo\"] == \"CM\"].groupby(\"cod\"):\n",
    "    cod_a = item[:4]\n",
    "    cod_b = item[4:7]\n",
    "    cod_c = item[7:11]\n",
    "    cod_d = item[11:14]\n",
    "    cod_e = item[-4:]\n",
    "    \n",
    "    curl = create_curl(\n",
    "        f\"https://eleapi.interno.gov.it/siel/PX/scrutiniCI/DE/{date}/TE/02/CP/{cod_b}/CU/{cod_c}/PR/{cod_d}/CM/{cod_e}\",\n",
    "        item\n",
    "    )\n",
    "    f.write(curl)\n",
    "    \n",
    "f.close()"
   ]
  },
  {
   "cell_type": "code",
   "execution_count": 38,
   "metadata": {},
   "outputs": [
    {
     "data": {
      "text/plain": [
       "\"curl 'https://eleapi.interno.gov.it/siel/PX/scrutiniCI/DE/20220925/TE/02/CP/261/CU/2614/PR/073/CM/0742'       -H 'authority: eleapi.interno.gov.it'       -H 'accept: application/json, text/javascript, */*; q=0.01'       -H 'accept-language: en-US,en;q=0.9,es-US;q=0.8,es;q=0.7,es-419;q=0.6,fr;q=0.5'       -H 'content-type: application/json'       -H 'origin: https://elezioni.interno.gov.it'       -H 'referer: https://elezioni.interno.gov.it/'       -H 'sec-fetch-dest: empty'       -H 'sec-fetch-mode: cors'       -H 'sec-fetch-site: same-site'       -H 'user-agent: Mozilla/5.0 (Windows NT 10.0; Win64; x64) AppleWebKit/537.36 (KHTML, like Gecko) Chrome/105.0.0.0 Safari/537.36'       --compressed > data/Italy/2022/1.txt \\n\""
      ]
     },
     "execution_count": 38,
     "metadata": {},
     "output_type": "execute_result"
    }
   ],
   "source": [
    "create_curl(\"https://eleapi.interno.gov.it/siel/PX/scrutiniCI/DE/20220925/TE/02/CP/261/CU/2614/PR/073/CM/0742\", 1)"
   ]
  },
  {
   "cell_type": "code",
   "execution_count": 39,
   "metadata": {},
   "outputs": [],
   "source": []
  },
  {
   "cell_type": "code",
   "execution_count": 15,
   "metadata": {},
   "outputs": [
    {
     "name": "stdout",
     "output_type": "stream",
     "text": [
      "['CR' 'CP' 'CU' 'PR' 'CM']\n",
      "[None 'M' 'N']\n"
     ]
    }
   ],
   "source": [
    "print(df.tipo.unique())\n",
    "print(df.tipo_comune.unique())"
   ]
  }
 ],
 "metadata": {
  "kernelspec": {
   "display_name": "Python 3 (ipykernel)",
   "language": "python",
   "name": "python3"
  },
  "language_info": {
   "codemirror_mode": {
    "name": "ipython",
    "version": 3
   },
   "file_extension": ".py",
   "mimetype": "text/x-python",
   "name": "python",
   "nbconvert_exporter": "python",
   "pygments_lexer": "ipython3",
   "version": "3.10.8"
  }
 },
 "nbformat": 4,
 "nbformat_minor": 2
}
