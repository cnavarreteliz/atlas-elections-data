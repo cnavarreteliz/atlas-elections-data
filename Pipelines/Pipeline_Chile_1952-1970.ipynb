{
 "cells": [
  {
   "cell_type": "code",
   "execution_count": 30,
   "metadata": {},
   "outputs": [],
   "source": [
    "import numpy as np\n",
    "import pandas as pd\n",
    "\n",
    "from glob import glob"
   ]
  },
  {
   "cell_type": "code",
   "execution_count": 60,
   "metadata": {},
   "outputs": [],
   "source": [
    "year = 1970"
   ]
  },
  {
   "cell_type": "code",
   "execution_count": 62,
   "metadata": {},
   "outputs": [
    {
     "name": "stdout",
     "output_type": "stream",
     "text": [
      "['Provincia', 'Depto.', 'Comunas', 'Votos', 'Tomic', 'Alessandri', 'Allende', 'Nulos y Blancos', 'Total General']\n"
     ]
    },
    {
     "data": {
      "text/html": [
       "<div>\n",
       "<style scoped>\n",
       "    .dataframe tbody tr th:only-of-type {\n",
       "        vertical-align: middle;\n",
       "    }\n",
       "\n",
       "    .dataframe tbody tr th {\n",
       "        vertical-align: top;\n",
       "    }\n",
       "\n",
       "    .dataframe thead th {\n",
       "        text-align: right;\n",
       "    }\n",
       "</style>\n",
       "<table border=\"1\" class=\"dataframe\">\n",
       "  <thead>\n",
       "    <tr style=\"text-align: right;\">\n",
       "      <th></th>\n",
       "      <th>Provincia</th>\n",
       "      <th>Depto.</th>\n",
       "      <th>Comunas</th>\n",
       "      <th>Tomic</th>\n",
       "      <th>Alessandri</th>\n",
       "      <th>Allende</th>\n",
       "    </tr>\n",
       "  </thead>\n",
       "  <tbody>\n",
       "    <tr>\n",
       "      <th>0</th>\n",
       "      <td>TARAPACA</td>\n",
       "      <td>Arica</td>\n",
       "      <td>ARICA</td>\n",
       "      <td>8407.0</td>\n",
       "      <td>7094.0</td>\n",
       "      <td>16598.0</td>\n",
       "    </tr>\n",
       "    <tr>\n",
       "      <th>1</th>\n",
       "      <td>TARAPACA</td>\n",
       "      <td>Arica</td>\n",
       "      <td>Belén</td>\n",
       "      <td>51.0</td>\n",
       "      <td>44.0</td>\n",
       "      <td>50.0</td>\n",
       "    </tr>\n",
       "    <tr>\n",
       "      <th>2</th>\n",
       "      <td>TARAPACA</td>\n",
       "      <td>Arica</td>\n",
       "      <td>Putre</td>\n",
       "      <td>71.0</td>\n",
       "      <td>48.0</td>\n",
       "      <td>84.0</td>\n",
       "    </tr>\n",
       "    <tr>\n",
       "      <th>3</th>\n",
       "      <td>TARAPACA</td>\n",
       "      <td>Arica</td>\n",
       "      <td>Codpa</td>\n",
       "      <td>106.0</td>\n",
       "      <td>31.0</td>\n",
       "      <td>21.0</td>\n",
       "    </tr>\n",
       "    <tr>\n",
       "      <th>4</th>\n",
       "      <td>TARAPACA</td>\n",
       "      <td>Arica</td>\n",
       "      <td>Gral. Lagos</td>\n",
       "      <td>27.0</td>\n",
       "      <td>44.0</td>\n",
       "      <td>29.0</td>\n",
       "    </tr>\n",
       "  </tbody>\n",
       "</table>\n",
       "</div>"
      ],
      "text/plain": [
       "  Provincia Depto.      Comunas   Tomic  Alessandri  Allende\n",
       "0  TARAPACA  Arica        ARICA  8407.0      7094.0  16598.0\n",
       "1  TARAPACA  Arica        Belén    51.0        44.0     50.0\n",
       "2  TARAPACA  Arica        Putre    71.0        48.0     84.0\n",
       "3  TARAPACA  Arica        Codpa   106.0        31.0     21.0\n",
       "4  TARAPACA  Arica  Gral. Lagos    27.0        44.0     29.0"
      ]
     },
     "execution_count": 62,
     "metadata": {},
     "output_type": "execute_result"
    }
   ],
   "source": [
    "df = pd.read_excel(\n",
    "    \"data/Chile/Elecciones Presidenciales 1952-1970.xlsx\",\n",
    "    sheet_name=f\"Presidenciales {year}\"\n",
    ")\n",
    "# \n",
    "df = df[~df.Comunas.isna()]\n",
    "df = df.replace({\"*\": np.nan, \"**\": np.nan, \"***\": np.nan})\n",
    "df = df.dropna(axis=1, how=\"all\")\n",
    "\n",
    "df = df.fillna(method=\"ffill\")\n",
    "print(list(df))\n",
    "# df = df.rename(columns={\"Nulos y blancos\": \"Nulos y Blancos\"})\n",
    "if year == 1952:\n",
    "    df = df.drop(columns=[\"Total\", \"Total emitidos\", \"Nulos y blancos\", \"Total votos\", \"Inscritos\"])\n",
    "elif year == 1958:\n",
    "    df = df.drop(columns=[\"Total \", \"Nulos y Blancos\", \"Total votos\"])\n",
    "elif year == 1964:\n",
    "    df = df.drop(columns=[\"Total\", \"Nulos\", \"Blancos\", \"Votos\"])\n",
    "elif year == 1970:\n",
    "    df = df.drop(columns=[\"Total General\", \"Nulos y Blancos\", \"Votos\"])\n",
    "\n",
    "df.head()"
   ]
  },
  {
   "cell_type": "code",
   "execution_count": 63,
   "metadata": {},
   "outputs": [],
   "source": [
    "df[\"polling_id\"] = df[\"Provincia\"] + \"-\" + df[\"Depto.\"] + \"-\" + df[\"Comunas\"]"
   ]
  },
  {
   "cell_type": "code",
   "execution_count": 64,
   "metadata": {},
   "outputs": [],
   "source": [
    "df = df.melt(id_vars=[\"Provincia\", \"Depto.\", \"Comunas\", \"polling_id\"], var_name=\"candidate\", value_name=\"value\")"
   ]
  },
  {
   "cell_type": "code",
   "execution_count": 65,
   "metadata": {},
   "outputs": [],
   "source": [
    "df[\"rank\"] = df.groupby([\"polling_id\"])[\"value\"].rank(\"min\", ascending=False).astype(int)"
   ]
  },
  {
   "cell_type": "code",
   "execution_count": 66,
   "metadata": {},
   "outputs": [
    {
     "name": "stderr",
     "output_type": "stream",
     "text": [
      "C:\\Users\\cnava\\AppData\\Local\\Temp\\ipykernel_24492\\3993134105.py:2: FutureWarning: Not prepending group keys to the result index of transform-like apply. In the future, the group keys will be included in the index, regardless of whether the applied function returns a like-indexed object.\n",
      "To preserve the previous behavior, use\n",
      "\n",
      "\t>>> .groupby(..., group_keys=False)\n",
      "\n",
      "To adopt the future behavior and silence this warning, use \n",
      "\n",
      "\t>>> .groupby(..., group_keys=True)\n",
      "  tt[\"rate\"] = tt.groupby(level=[0]).apply(lambda x: x/x.sum())\n"
     ]
    }
   ],
   "source": [
    "tt = df.groupby([\"polling_id\", \"candidate\"]).agg({\"value\": \"sum\"})\n",
    "tt[\"rate\"] = tt.groupby(level=[0]).apply(lambda x: x/x.sum())\n",
    "tt = tt.reset_index()\n",
    "tt = tt[[\"polling_id\", \"candidate\", \"rate\"]]"
   ]
  },
  {
   "cell_type": "code",
   "execution_count": 67,
   "metadata": {},
   "outputs": [],
   "source": [
    "df = pd.merge(df, tt, on=[\"polling_id\", \"candidate\"])"
   ]
  },
  {
   "cell_type": "code",
   "execution_count": 68,
   "metadata": {},
   "outputs": [],
   "source": [
    "df.to_csv(f\"data_output/Chile/{year}_first_round.csv.gz\", compression=\"gzip\", index=False)"
   ]
  }
 ],
 "metadata": {
  "kernelspec": {
   "display_name": "Python 3",
   "language": "python",
   "name": "python3"
  },
  "language_info": {
   "codemirror_mode": {
    "name": "ipython",
    "version": 3
   },
   "file_extension": ".py",
   "mimetype": "text/x-python",
   "name": "python",
   "nbconvert_exporter": "python",
   "pygments_lexer": "ipython3",
   "version": "3.10.8"
  },
  "orig_nbformat": 4,
  "vscode": {
   "interpreter": {
    "hash": "369f2c481f4da34e4445cda3fffd2e751bd1c4d706f27375911949ba6bb62e1c"
   }
  }
 },
 "nbformat": 4,
 "nbformat_minor": 2
}
