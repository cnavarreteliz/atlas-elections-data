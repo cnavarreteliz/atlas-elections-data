{
 "cells": [
  {
   "cell_type": "code",
   "execution_count": 1,
   "metadata": {},
   "outputs": [],
   "source": [
    "import pandas as pd\n",
    "import requests\n",
    "from bs4 import BeautifulSoup"
   ]
  },
  {
   "cell_type": "code",
   "execution_count": 2,
   "metadata": {},
   "outputs": [],
   "source": [
    "headers = {\n",
    "    \"User-Agent\": \"Mozilla/5.0 (Windows NT 10.0; Win64; x64) AppleWebKit/537.36 (KHTML, like Gecko) Chrome/91.0.4472.124 Safari/537.36\",\n",
    "    \"Accept\": \"text/html,application/xhtml+xml,application/xml;q=0.9,image/webp,*/*;q=0.8\"\n",
    "}\n",
    "\n",
    "# ne: number of circunscription\n",
    "# nlg: number of coalition\n",
    "\n",
    "\n",
    "def get_data(\n",
    "  election_date = \"14/06/1987\",\n",
    "  district_id = 1,\n",
    "  nlg = 1\n",
    "):\n",
    "  api = f\"https://elezionistorico.interno.gov.it/candidati.php?tpel=C&dtel={election_date}&tpa=I&tpe=I&lev0=0&levsut0=0&lev1=32&levsut1=1&ne1=32&es0=S&es1=S&ms=S&ne={district_id}&nlg={nlg}&ts=C\"\n",
    "  r = requests.get(api,  headers=headers)\n",
    "\n",
    "  soup = BeautifulSoup(r.text)\n",
    "  party = soup.select_one(\".simbolo_candidati\").text\n",
    "  df = pd.read_html(r.text, thousands=\".\")[0]\n",
    "  df[\"party\"] = party\n",
    "  df[\"party_id\"] = nlg\n",
    "  df[\"district_id\"] = district_id\n",
    "\n",
    "  return df"
   ]
  },
  {
   "cell_type": "code",
   "execution_count": 3,
   "metadata": {},
   "outputs": [],
   "source": [
    "election_date = \"14/06/1987\"\n",
    "output = []\n",
    "for district_id in range(1, 32 + 1):\n",
    "  nlg = 1\n",
    "  while nlg:\n",
    "    try:\n",
    "      frag = get_data(\n",
    "        district_id = district_id,\n",
    "        nlg = nlg,\n",
    "        election_date=election_date\n",
    "      )\n",
    "      output.append(frag)\n",
    "      nlg += 1\n",
    "    except:\n",
    "      nlg = None\n",
    "    "
   ]
  },
  {
   "cell_type": "code",
   "execution_count": null,
   "metadata": {},
   "outputs": [
    {
     "data": {
      "text/html": [
       "<div>\n",
       "<style scoped>\n",
       "    .dataframe tbody tr th:only-of-type {\n",
       "        vertical-align: middle;\n",
       "    }\n",
       "\n",
       "    .dataframe tbody tr th {\n",
       "        vertical-align: top;\n",
       "    }\n",
       "\n",
       "    .dataframe thead th {\n",
       "        text-align: right;\n",
       "    }\n",
       "</style>\n",
       "<table border=\"1\" class=\"dataframe\">\n",
       "  <thead>\n",
       "    <tr style=\"text-align: right;\">\n",
       "      <th></th>\n",
       "      <th>candidate</th>\n",
       "      <th>value</th>\n",
       "      <th>elected</th>\n",
       "      <th>party</th>\n",
       "      <th>party_id</th>\n",
       "      <th>district_id</th>\n",
       "    </tr>\n",
       "  </thead>\n",
       "  <tbody>\n",
       "    <tr>\n",
       "      <th>0</th>\n",
       "      <td>PASTORE GIULIO</td>\n",
       "      <td>74017</td>\n",
       "      <td>Eletto</td>\n",
       "      <td>DC</td>\n",
       "      <td>1</td>\n",
       "      <td>1</td>\n",
       "    </tr>\n",
       "    <tr>\n",
       "      <th>1</th>\n",
       "      <td>SCALFARO OSCAR LUIGI</td>\n",
       "      <td>55499</td>\n",
       "      <td>Eletto</td>\n",
       "      <td>DC</td>\n",
       "      <td>1</td>\n",
       "      <td>1</td>\n",
       "    </tr>\n",
       "    <tr>\n",
       "      <th>2</th>\n",
       "      <td>PELLA GIUSEPPE</td>\n",
       "      <td>50814</td>\n",
       "      <td>Eletto</td>\n",
       "      <td>DC</td>\n",
       "      <td>1</td>\n",
       "      <td>1</td>\n",
       "    </tr>\n",
       "    <tr>\n",
       "      <th>3</th>\n",
       "      <td>RAPELLI GIUSEPPE ANTONIO</td>\n",
       "      <td>36238</td>\n",
       "      <td>Eletto</td>\n",
       "      <td>DC</td>\n",
       "      <td>1</td>\n",
       "      <td>1</td>\n",
       "    </tr>\n",
       "    <tr>\n",
       "      <th>4</th>\n",
       "      <td>MENOTTI NATALE</td>\n",
       "      <td>35238</td>\n",
       "      <td>Eletto</td>\n",
       "      <td>DC</td>\n",
       "      <td>1</td>\n",
       "      <td>1</td>\n",
       "    </tr>\n",
       "  </tbody>\n",
       "</table>\n",
       "</div>"
      ],
      "text/plain": [
       "                  candidate  value elected party  party_id  district_id\n",
       "0            PASTORE GIULIO  74017  Eletto    DC         1            1\n",
       "1      SCALFARO OSCAR LUIGI  55499  Eletto    DC         1            1\n",
       "2            PELLA GIUSEPPE  50814  Eletto    DC         1            1\n",
       "3  RAPELLI GIUSEPPE ANTONIO  36238  Eletto    DC         1            1\n",
       "4            MENOTTI NATALE  35238  Eletto    DC         1            1"
      ]
     },
     "execution_count": 114,
     "metadata": {},
     "output_type": "execute_result"
    }
   ],
   "source": [
    "df = pd.concat(output, ignore_index=True)\n",
    "df = df.drop(columns=[\"Data di nascita\", \"Luogo di nascita\"])\n",
    "df = df.rename(columns={\"Candidati\": \"candidate\", \"Preferenze\": \"value\", \"Unnamed: 4\": \"elected\"})\n",
    "df[\"value\"] = df[\"value\"].replace(\"-\", 0).astype(int)\n",
    "df.head(5)"
   ]
  },
  {
   "cell_type": "code",
   "execution_count": null,
   "metadata": {},
   "outputs": [],
   "source": [
    "year = election_date[6:12]\n",
    "\n",
    "df.to_csv(f\"../data_output/Italy/{year}_camera_district.csv.gz\", index=False, compression=\"gzip\")"
   ]
  }
 ],
 "metadata": {
  "kernelspec": {
   "display_name": "Python 3",
   "language": "python",
   "name": "python3"
  },
  "language_info": {
   "codemirror_mode": {
    "name": "ipython",
    "version": 3
   },
   "file_extension": ".py",
   "mimetype": "text/x-python",
   "name": "python",
   "nbconvert_exporter": "python",
   "pygments_lexer": "ipython3",
   "version": "3.10.8"
  }
 },
 "nbformat": 4,
 "nbformat_minor": 2
}
