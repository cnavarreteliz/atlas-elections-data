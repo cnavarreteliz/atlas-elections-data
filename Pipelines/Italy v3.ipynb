{
 "cells": [
  {
   "cell_type": "code",
   "execution_count": 67,
   "metadata": {},
   "outputs": [],
   "source": [
    "import pandas as pd\n",
    "import requests\n",
    "from bs4 import BeautifulSoup"
   ]
  },
  {
   "cell_type": "code",
   "execution_count": 44,
   "metadata": {},
   "outputs": [],
   "source": [
    "headers = {\n",
    "    \"User-Agent\": \"Mozilla/5.0 (Windows NT 10.0; Win64; x64) AppleWebKit/537.36 (KHTML, like Gecko) Chrome/91.0.4472.124 Safari/537.36\",\n",
    "    \"Accept\": \"text/html,application/xhtml+xml,application/xml;q=0.9,image/webp,*/*;q=0.8\"\n",
    "}\n",
    "\n",
    "# ne: number of circunscription\n",
    "# nlg: number of coalition\n",
    "\n",
    "\n",
    "def get_data(\n",
    "  election_date = \"20/06/1976\",\n",
    "  district_id = 1,\n",
    "  nlg = 1\n",
    "):\n",
    "  api = f\"https://elezionistorico.interno.gov.it/candidati.php?tpel=C&dtel={election_date}&tpa=I&tpe=I&lev0=0&levsut0=0&lev1=32&levsut1=1&ne1=32&es0=S&es1=S&ms=S&ne={district_id}&nlg={nlg}&ts=C\"\n",
    "  r = requests.get(api,  headers=headers)\n",
    "\n",
    "  soup = BeautifulSoup(r.text)\n",
    "  party = soup.select_one(\".simbolo_candidati\").text\n",
    "  df = pd.read_html(r.text, thousands=\".\")[0]\n",
    "  df[\"party\"] = party\n",
    "  df[\"party_id\"] = nlg\n",
    "  df[\"district_id\"] = district_id\n",
    "\n",
    "  return df"
   ]
  },
  {
   "cell_type": "code",
   "execution_count": 68,
   "metadata": {},
   "outputs": [],
   "source": [
    "output = []\n",
    "for district_id in range(1, 32 + 1):\n",
    "  nlg = 1\n",
    "  while nlg:\n",
    "    try:\n",
    "      frag = get_data(\n",
    "        district_id = district_id,\n",
    "        nlg = nlg\n",
    "      )\n",
    "      output.append(frag)\n",
    "      nlg += 1\n",
    "    except:\n",
    "      nlg = None\n",
    "    "
   ]
  },
  {
   "cell_type": "code",
   "execution_count": 75,
   "metadata": {},
   "outputs": [
    {
     "data": {
      "text/html": [
       "<div>\n",
       "<style scoped>\n",
       "    .dataframe tbody tr th:only-of-type {\n",
       "        vertical-align: middle;\n",
       "    }\n",
       "\n",
       "    .dataframe tbody tr th {\n",
       "        vertical-align: top;\n",
       "    }\n",
       "\n",
       "    .dataframe thead th {\n",
       "        text-align: right;\n",
       "    }\n",
       "</style>\n",
       "<table border=\"1\" class=\"dataframe\">\n",
       "  <thead>\n",
       "    <tr style=\"text-align: right;\">\n",
       "      <th></th>\n",
       "      <th>candidate</th>\n",
       "      <th>value</th>\n",
       "      <th>elected</th>\n",
       "      <th>party</th>\n",
       "      <th>party_id</th>\n",
       "      <th>district_id</th>\n",
       "    </tr>\n",
       "  </thead>\n",
       "  <tbody>\n",
       "    <tr>\n",
       "      <th>0</th>\n",
       "      <td>PAJETTA GIAN CARLO</td>\n",
       "      <td>146788</td>\n",
       "      <td>Eletto</td>\n",
       "      <td>PCI</td>\n",
       "      <td>1</td>\n",
       "      <td>1</td>\n",
       "    </tr>\n",
       "    <tr>\n",
       "      <th>1</th>\n",
       "      <td>PUGNO EMILIO</td>\n",
       "      <td>53785</td>\n",
       "      <td>Eletto</td>\n",
       "      <td>PCI</td>\n",
       "      <td>1</td>\n",
       "      <td>1</td>\n",
       "    </tr>\n",
       "    <tr>\n",
       "      <th>2</th>\n",
       "      <td>LIBERTINI LUCIO</td>\n",
       "      <td>51901</td>\n",
       "      <td>Eletto</td>\n",
       "      <td>PCI</td>\n",
       "      <td>1</td>\n",
       "      <td>1</td>\n",
       "    </tr>\n",
       "    <tr>\n",
       "      <th>3</th>\n",
       "      <td>SPAGNOLI UGO</td>\n",
       "      <td>39197</td>\n",
       "      <td>Eletto</td>\n",
       "      <td>PCI</td>\n",
       "      <td>1</td>\n",
       "      <td>1</td>\n",
       "    </tr>\n",
       "    <tr>\n",
       "      <th>4</th>\n",
       "      <td>NAPOLEONI CLAUDIO</td>\n",
       "      <td>21962</td>\n",
       "      <td>Eletto</td>\n",
       "      <td>PCI</td>\n",
       "      <td>1</td>\n",
       "      <td>1</td>\n",
       "    </tr>\n",
       "  </tbody>\n",
       "</table>\n",
       "</div>"
      ],
      "text/plain": [
       "            candidate   value elected party  party_id  district_id\n",
       "0  PAJETTA GIAN CARLO  146788  Eletto   PCI         1            1\n",
       "1        PUGNO EMILIO   53785  Eletto   PCI         1            1\n",
       "2     LIBERTINI LUCIO   51901  Eletto   PCI         1            1\n",
       "3        SPAGNOLI UGO   39197  Eletto   PCI         1            1\n",
       "4   NAPOLEONI CLAUDIO   21962  Eletto   PCI         1            1"
      ]
     },
     "execution_count": 75,
     "metadata": {},
     "output_type": "execute_result"
    }
   ],
   "source": [
    "df = pd.concat(output, ignore_index=True)\n",
    "df = df.drop(columns=[\"Data di nascita\", \"Luogo di nascita\"])\n",
    "df = df.rename(columns={\"Candidati\": \"candidate\", \"Preferenze\": \"value\", \"Unnamed: 4\": \"elected\"})\n",
    "df[\"value\"] = df[\"value\"].replace(\"-\", 0).astype(int)\n",
    "df.head(5)"
   ]
  },
  {
   "cell_type": "code",
   "execution_count": 76,
   "metadata": {},
   "outputs": [],
   "source": [
    "year = 1976\n",
    "\n",
    "df.to_csv(f\"../data_output/Italy/{year}_camera_district.csv.gz\", index=False, compression=\"gzip\")"
   ]
  }
 ],
 "metadata": {
  "kernelspec": {
   "display_name": "Python 3",
   "language": "python",
   "name": "python3"
  },
  "language_info": {
   "codemirror_mode": {
    "name": "ipython",
    "version": 3
   },
   "file_extension": ".py",
   "mimetype": "text/x-python",
   "name": "python",
   "nbconvert_exporter": "python",
   "pygments_lexer": "ipython3",
   "version": "3.10.8"
  }
 },
 "nbformat": 4,
 "nbformat_minor": 2
}
