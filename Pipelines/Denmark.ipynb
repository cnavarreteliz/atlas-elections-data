{
 "cells": [
  {
   "cell_type": "code",
   "execution_count": 1,
   "metadata": {},
   "outputs": [],
   "source": [
    "import pandas as pd\n",
    "import os\n",
    "\n",
    "os.chdir(\"../\")"
   ]
  },
  {
   "cell_type": "code",
   "execution_count": 3,
   "metadata": {},
   "outputs": [
    {
     "data": {
      "text/html": [
       "<div>\n",
       "<style scoped>\n",
       "    .dataframe tbody tr th:only-of-type {\n",
       "        vertical-align: middle;\n",
       "    }\n",
       "\n",
       "    .dataframe tbody tr th {\n",
       "        vertical-align: top;\n",
       "    }\n",
       "\n",
       "    .dataframe thead th {\n",
       "        text-align: right;\n",
       "    }\n",
       "</style>\n",
       "<table border=\"1\" class=\"dataframe\">\n",
       "  <thead>\n",
       "    <tr style=\"text-align: right;\">\n",
       "      <th></th>\n",
       "      <th>district_id</th>\n",
       "      <th>candidate</th>\n",
       "      <th>party_id</th>\n",
       "      <th>value</th>\n",
       "    </tr>\n",
       "  </thead>\n",
       "  <tbody>\n",
       "    <tr>\n",
       "      <th>24</th>\n",
       "      <td>Københavns Storkreds</td>\n",
       "      <td>A. Halima El Abassi</td>\n",
       "      <td>The Social Democratic Party</td>\n",
       "      <td>619</td>\n",
       "    </tr>\n",
       "    <tr>\n",
       "      <th>27</th>\n",
       "      <td>Københavns Storkreds</td>\n",
       "      <td>A. Ida Auken</td>\n",
       "      <td>The Social Democratic Party</td>\n",
       "      <td>9879</td>\n",
       "    </tr>\n",
       "    <tr>\n",
       "      <th>28</th>\n",
       "      <td>Københavns Storkreds</td>\n",
       "      <td>A. Jarl Feyling</td>\n",
       "      <td>The Social Democratic Party</td>\n",
       "      <td>265</td>\n",
       "    </tr>\n",
       "    <tr>\n",
       "      <th>34</th>\n",
       "      <td>Københavns Storkreds</td>\n",
       "      <td>A. Jørgen Mørup Pedersen</td>\n",
       "      <td>The Social Democratic Party</td>\n",
       "      <td>158</td>\n",
       "    </tr>\n",
       "    <tr>\n",
       "      <th>42</th>\n",
       "      <td>Københavns Storkreds</td>\n",
       "      <td>A. Lars Aslan Rasmussen</td>\n",
       "      <td>The Social Democratic Party</td>\n",
       "      <td>2130</td>\n",
       "    </tr>\n",
       "  </tbody>\n",
       "</table>\n",
       "</div>"
      ],
      "text/plain": [
       "             district_id                 candidate  \\\n",
       "24  Københavns Storkreds       A. Halima El Abassi   \n",
       "27  Københavns Storkreds              A. Ida Auken   \n",
       "28  Københavns Storkreds           A. Jarl Feyling   \n",
       "34  Københavns Storkreds  A. Jørgen Mørup Pedersen   \n",
       "42  Københavns Storkreds   A. Lars Aslan Rasmussen   \n",
       "\n",
       "                       party_id  value  \n",
       "24  The Social Democratic Party    619  \n",
       "27  The Social Democratic Party   9879  \n",
       "28  The Social Democratic Party    265  \n",
       "34  The Social Democratic Party    158  \n",
       "42  The Social Democratic Party   2130  "
      ]
     },
     "execution_count": 3,
     "metadata": {},
     "output_type": "execute_result"
    }
   ],
   "source": [
    "year = 2022\n",
    "\n",
    "df = pd.read_excel(f\"data/Denmark/camera-{year}.xlsx\", header=2)\n",
    "df = df.rename(columns={\n",
    "  \"Unnamed: 0\": \"year\",\n",
    "  \"Unnamed: 1\": \"district_id\",\n",
    "  \"Unnamed: 2\": \"candidate\"\n",
    "})\n",
    "\n",
    "columns = [\"year\", \"district_id\", \"candidate\"]\n",
    "df = df.dropna(subset=[\"candidate\"])\n",
    "for x in columns:\n",
    "  df[x] = df[x].ffill()\n",
    "\n",
    "df = df.melt(id_vars=columns, value_name=\"value\", var_name=\"party_id\")\n",
    "df[\"party_id\"] = df[\"party_id\"].str[3:]\n",
    "df = df.drop(columns=[\"year\"])\n",
    "df[\"value\"] = df[\"value\"].astype(int)\n",
    "df = df[df[\"value\"] != 0]\n",
    "\n",
    "df.to_csv(f\"data_output/Denmark/{year}_camera_district.csv.gz\", index=False, compression=\"gzip\")\n",
    "\n",
    "df.head()"
   ]
  }
 ],
 "metadata": {
  "kernelspec": {
   "display_name": "Python 3",
   "language": "python",
   "name": "python3"
  },
  "language_info": {
   "codemirror_mode": {
    "name": "ipython",
    "version": 3
   },
   "file_extension": ".py",
   "mimetype": "text/x-python",
   "name": "python",
   "nbconvert_exporter": "python",
   "pygments_lexer": "ipython3",
   "version": "3.10.8"
  }
 },
 "nbformat": 4,
 "nbformat_minor": 2
}
