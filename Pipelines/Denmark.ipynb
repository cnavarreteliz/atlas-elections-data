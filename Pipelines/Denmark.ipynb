{
 "cells": [
  {
   "cell_type": "code",
   "execution_count": 1,
   "metadata": {},
   "outputs": [],
   "source": [
    "import pandas as pd\n",
    "import os\n",
    "\n",
    "os.chdir(\"../\")"
   ]
  },
  {
   "cell_type": "code",
   "execution_count": 4,
   "metadata": {},
   "outputs": [
    {
     "data": {
      "text/html": [
       "<div>\n",
       "<style scoped>\n",
       "    .dataframe tbody tr th:only-of-type {\n",
       "        vertical-align: middle;\n",
       "    }\n",
       "\n",
       "    .dataframe tbody tr th {\n",
       "        vertical-align: top;\n",
       "    }\n",
       "\n",
       "    .dataframe thead th {\n",
       "        text-align: right;\n",
       "    }\n",
       "</style>\n",
       "<table border=\"1\" class=\"dataframe\">\n",
       "  <thead>\n",
       "    <tr style=\"text-align: right;\">\n",
       "      <th></th>\n",
       "      <th>district_id</th>\n",
       "      <th>candidate</th>\n",
       "      <th>party_id</th>\n",
       "      <th>value</th>\n",
       "    </tr>\n",
       "  </thead>\n",
       "  <tbody>\n",
       "    <tr>\n",
       "      <th>3</th>\n",
       "      <td>Københavns Storkreds</td>\n",
       "      <td>Helle Thorning-Schmidt</td>\n",
       "      <td>The Social Democratic Party</td>\n",
       "      <td>33564</td>\n",
       "    </tr>\n",
       "    <tr>\n",
       "      <th>112</th>\n",
       "      <td>Københavns Storkreds</td>\n",
       "      <td>Karen Hækkerup</td>\n",
       "      <td>The Social Democratic Party</td>\n",
       "      <td>4526</td>\n",
       "    </tr>\n",
       "    <tr>\n",
       "      <th>158</th>\n",
       "      <td>Københavns Storkreds</td>\n",
       "      <td>Mette Reissmann</td>\n",
       "      <td>The Social Democratic Party</td>\n",
       "      <td>3154</td>\n",
       "    </tr>\n",
       "    <tr>\n",
       "      <th>178</th>\n",
       "      <td>Københavns Storkreds</td>\n",
       "      <td>Yildiz Akdogan</td>\n",
       "      <td>The Social Democratic Party</td>\n",
       "      <td>2599</td>\n",
       "    </tr>\n",
       "    <tr>\n",
       "      <th>258</th>\n",
       "      <td>Københavns Storkreds</td>\n",
       "      <td>Ikram Sarwar</td>\n",
       "      <td>The Social Democratic Party</td>\n",
       "      <td>1438</td>\n",
       "    </tr>\n",
       "  </tbody>\n",
       "</table>\n",
       "</div>"
      ],
      "text/plain": [
       "              district_id               candidate  \\\n",
       "3    Københavns Storkreds  Helle Thorning-Schmidt   \n",
       "112  Københavns Storkreds          Karen Hækkerup   \n",
       "158  Københavns Storkreds         Mette Reissmann   \n",
       "178  Københavns Storkreds          Yildiz Akdogan   \n",
       "258  Københavns Storkreds            Ikram Sarwar   \n",
       "\n",
       "                        party_id  value  \n",
       "3    The Social Democratic Party  33564  \n",
       "112  The Social Democratic Party   4526  \n",
       "158  The Social Democratic Party   3154  \n",
       "178  The Social Democratic Party   2599  \n",
       "258  The Social Democratic Party   1438  "
      ]
     },
     "execution_count": 4,
     "metadata": {},
     "output_type": "execute_result"
    }
   ],
   "source": [
    "year = 2007\n",
    "\n",
    "df = pd.read_excel(f\"data/Denmark/camera-{year}.xlsx\", header=2)\n",
    "df = df.rename(columns={\n",
    "  \"Unnamed: 0\": \"year\",\n",
    "  \"Unnamed: 1\": \"district_id\",\n",
    "  \"Unnamed: 2\": \"candidate\"\n",
    "})\n",
    "\n",
    "columns = [\"year\", \"district_id\", \"candidate\"]\n",
    "df = df.dropna(subset=[\"candidate\"])\n",
    "for x in columns:\n",
    "  df[x] = df[x].ffill()\n",
    "\n",
    "df = df.melt(id_vars=columns, value_name=\"value\", var_name=\"party_id\")\n",
    "df[\"party_id\"] = df[\"party_id\"].str[3:]\n",
    "df = df.drop(columns=[\"year\"])\n",
    "df[\"value\"] = df[\"value\"].astype(int)\n",
    "df = df[df[\"value\"] != 0]\n",
    "\n",
    "df.to_csv(f\"data_output/Denmark/{year}_camera_district.csv.gz\", index=False, compression=\"gzip\")\n",
    "\n",
    "df.head()"
   ]
  }
 ],
 "metadata": {
  "kernelspec": {
   "display_name": "Python 3",
   "language": "python",
   "name": "python3"
  },
  "language_info": {
   "codemirror_mode": {
    "name": "ipython",
    "version": 3
   },
   "file_extension": ".py",
   "mimetype": "text/x-python",
   "name": "python",
   "nbconvert_exporter": "python",
   "pygments_lexer": "ipython3",
   "version": "3.10.8"
  }
 },
 "nbformat": 4,
 "nbformat_minor": 2
}
