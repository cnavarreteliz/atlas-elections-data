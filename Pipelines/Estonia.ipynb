{
 "cells": [
  {
   "cell_type": "code",
   "execution_count": 4,
   "metadata": {},
   "outputs": [],
   "source": [
    "import pandas as pd\n",
    "import requests"
   ]
  },
  {
   "cell_type": "code",
   "execution_count": 58,
   "metadata": {},
   "outputs": [],
   "source": [
    "year = 2024\n",
    "\n",
    "r = requests.get(f\"https://ep{year}.valimised.ee/en/detailed-voting-result/index.html\")\n",
    "r.encoding = 'utf-8'  # Set the encoding explicitly\n",
    "\n",
    "frags = pd.read_html(r.text)"
   ]
  },
  {
   "cell_type": "code",
   "execution_count": 41,
   "metadata": {},
   "outputs": [
    {
     "data": {
      "text/plain": [
       "110"
      ]
     },
     "execution_count": 41,
     "metadata": {},
     "output_type": "execute_result"
    }
   ],
   "source": [
    "len(frags)"
   ]
  },
  {
   "cell_type": "code",
   "execution_count": 57,
   "metadata": {},
   "outputs": [
    {
     "data": {
      "text/html": [
       "<div>\n",
       "<style scoped>\n",
       "    .dataframe tbody tr th:only-of-type {\n",
       "        vertical-align: middle;\n",
       "    }\n",
       "\n",
       "    .dataframe tbody tr th {\n",
       "        vertical-align: top;\n",
       "    }\n",
       "\n",
       "    .dataframe thead th {\n",
       "        text-align: right;\n",
       "    }\n",
       "</style>\n",
       "<table border=\"1\" class=\"dataframe\">\n",
       "  <thead>\n",
       "    <tr style=\"text-align: right;\">\n",
       "      <th></th>\n",
       "      <th>candidate</th>\n",
       "      <th>party_id</th>\n",
       "      <th>value</th>\n",
       "      <th>district_id</th>\n",
       "    </tr>\n",
       "  </thead>\n",
       "  <tbody>\n",
       "    <tr>\n",
       "      <th>0</th>\n",
       "      <td>AIVO PETERSON</td>\n",
       "      <td>KOOS organisatsioon osutab suveräänsusele</td>\n",
       "      <td>11503</td>\n",
       "      <td>EE</td>\n",
       "    </tr>\n",
       "    <tr>\n",
       "      <th>1</th>\n",
       "      <td>MARTIN HELME</td>\n",
       "      <td>Eesti Konservatiivne Rahvaerakond</td>\n",
       "      <td>17895</td>\n",
       "      <td>EE</td>\n",
       "    </tr>\n",
       "    <tr>\n",
       "      <th>2</th>\n",
       "      <td>ANTI POOLAMETS</td>\n",
       "      <td>Eesti Konservatiivne Rahvaerakond</td>\n",
       "      <td>840</td>\n",
       "      <td>EE</td>\n",
       "    </tr>\n",
       "    <tr>\n",
       "      <th>3</th>\n",
       "      <td>HELLE-MOONIKA HELME</td>\n",
       "      <td>Eesti Konservatiivne Rahvaerakond</td>\n",
       "      <td>736</td>\n",
       "      <td>EE</td>\n",
       "    </tr>\n",
       "    <tr>\n",
       "      <th>4</th>\n",
       "      <td>HENN PÕLLUAAS</td>\n",
       "      <td>Eesti Konservatiivne Rahvaerakond</td>\n",
       "      <td>474</td>\n",
       "      <td>EE</td>\n",
       "    </tr>\n",
       "  </tbody>\n",
       "</table>\n",
       "</div>"
      ],
      "text/plain": [
       "             candidate                                   party_id  value  \\\n",
       "0        AIVO PETERSON  KOOS organisatsioon osutab suveräänsusele  11503   \n",
       "1         MARTIN HELME          Eesti Konservatiivne Rahvaerakond  17895   \n",
       "2       ANTI POOLAMETS          Eesti Konservatiivne Rahvaerakond    840   \n",
       "3  HELLE-MOONIKA HELME          Eesti Konservatiivne Rahvaerakond    736   \n",
       "4        HENN PÕLLUAAS          Eesti Konservatiivne Rahvaerakond    474   \n",
       "\n",
       "  district_id  \n",
       "0          EE  \n",
       "1          EE  \n",
       "2          EE  \n",
       "3          EE  \n",
       "4          EE  "
      ]
     },
     "execution_count": 57,
     "metadata": {},
     "output_type": "execute_result"
    }
   ],
   "source": [
    "df = frags[21].dropna()\n",
    "df = df[~df[1].isin([\"Total of list\", \"Total number of valid votes\", \"Candidate's name\"])]\n",
    "\n",
    "party = None\n",
    "output = []\n",
    "for i, item in df.iterrows():\n",
    "  if item[0] == item[1]:\n",
    "    party = item[0]\n",
    "  \n",
    "  else:\n",
    "    candidate = item[1]\n",
    "    value = item[2]\n",
    "    polling_id = \"EE\"\n",
    "\n",
    "    output.append({\n",
    "      \"candidate\": candidate,\n",
    "      \"party_id\": party,\n",
    "      \"value\": int(value),\n",
    "      \"district_id\": polling_id\n",
    "    })\n",
    "\n",
    "df = pd.DataFrame(output)\n",
    "df.head()"
   ]
  },
  {
   "cell_type": "code",
   "execution_count": 60,
   "metadata": {},
   "outputs": [
    {
     "data": {
      "text/html": [
       "<div>\n",
       "<style scoped>\n",
       "    .dataframe tbody tr th:only-of-type {\n",
       "        vertical-align: middle;\n",
       "    }\n",
       "\n",
       "    .dataframe tbody tr th {\n",
       "        vertical-align: top;\n",
       "    }\n",
       "\n",
       "    .dataframe thead th {\n",
       "        text-align: right;\n",
       "    }\n",
       "</style>\n",
       "<table border=\"1\" class=\"dataframe\">\n",
       "  <thead>\n",
       "    <tr style=\"text-align: right;\">\n",
       "      <th></th>\n",
       "      <th>candidate</th>\n",
       "      <th>party_id</th>\n",
       "      <th>value</th>\n",
       "      <th>district_id</th>\n",
       "    </tr>\n",
       "  </thead>\n",
       "  <tbody>\n",
       "    <tr>\n",
       "      <th>0</th>\n",
       "      <td>AIVO PETERSON</td>\n",
       "      <td>KOOS organisatsioon osutab suveräänsusele</td>\n",
       "      <td>11503</td>\n",
       "      <td>EE</td>\n",
       "    </tr>\n",
       "    <tr>\n",
       "      <th>1</th>\n",
       "      <td>MARTIN HELME</td>\n",
       "      <td>Eesti Konservatiivne Rahvaerakond</td>\n",
       "      <td>17895</td>\n",
       "      <td>EE</td>\n",
       "    </tr>\n",
       "    <tr>\n",
       "      <th>2</th>\n",
       "      <td>ANTI POOLAMETS</td>\n",
       "      <td>Eesti Konservatiivne Rahvaerakond</td>\n",
       "      <td>840</td>\n",
       "      <td>EE</td>\n",
       "    </tr>\n",
       "    <tr>\n",
       "      <th>3</th>\n",
       "      <td>HELLE-MOONIKA HELME</td>\n",
       "      <td>Eesti Konservatiivne Rahvaerakond</td>\n",
       "      <td>736</td>\n",
       "      <td>EE</td>\n",
       "    </tr>\n",
       "    <tr>\n",
       "      <th>4</th>\n",
       "      <td>HENN PÕLLUAAS</td>\n",
       "      <td>Eesti Konservatiivne Rahvaerakond</td>\n",
       "      <td>474</td>\n",
       "      <td>EE</td>\n",
       "    </tr>\n",
       "  </tbody>\n",
       "</table>\n",
       "</div>"
      ],
      "text/plain": [
       "             candidate                                   party_id  value  \\\n",
       "0        AIVO PETERSON  KOOS organisatsioon osutab suveräänsusele  11503   \n",
       "1         MARTIN HELME          Eesti Konservatiivne Rahvaerakond  17895   \n",
       "2       ANTI POOLAMETS          Eesti Konservatiivne Rahvaerakond    840   \n",
       "3  HELLE-MOONIKA HELME          Eesti Konservatiivne Rahvaerakond    736   \n",
       "4        HENN PÕLLUAAS          Eesti Konservatiivne Rahvaerakond    474   \n",
       "\n",
       "  district_id  \n",
       "0          EE  \n",
       "1          EE  \n",
       "2          EE  \n",
       "3          EE  \n",
       "4          EE  "
      ]
     },
     "execution_count": 60,
     "metadata": {},
     "output_type": "execute_result"
    }
   ],
   "source": [
    "df.to_csv(f\"../data_output/Estonia/{year}_camera_district.csv.gz\", index=False, compression=\"gzip\")\n",
    "\n",
    "df.head()"
   ]
  }
 ],
 "metadata": {
  "kernelspec": {
   "display_name": "Python 3",
   "language": "python",
   "name": "python3"
  },
  "language_info": {
   "codemirror_mode": {
    "name": "ipython",
    "version": 3
   },
   "file_extension": ".py",
   "mimetype": "text/x-python",
   "name": "python",
   "nbconvert_exporter": "python",
   "pygments_lexer": "ipython3",
   "version": "3.10.8"
  }
 },
 "nbformat": 4,
 "nbformat_minor": 2
}
