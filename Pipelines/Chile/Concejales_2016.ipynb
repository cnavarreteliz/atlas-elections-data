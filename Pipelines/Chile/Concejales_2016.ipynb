{
 "cells": [
  {
   "cell_type": "code",
   "execution_count": 1,
   "metadata": {},
   "outputs": [],
   "source": [
    "import pandas as pd\n",
    "import numpy as np"
   ]
  },
  {
   "cell_type": "code",
   "execution_count": 2,
   "metadata": {},
   "outputs": [],
   "source": [
    "## https://www.servel.cl/centro-de-datos/procesos-electorales-detalle/?id=13\n",
    "\n",
    "regions = [\n",
    "    \"https://www.servel.cl/wp-content/uploads/2023/06/12_Resultados_Mesa_Concejales_TER-MAGALLANES.xlsx\",\n",
    "    \"https://www.servel.cl/wp-content/uploads/2023/06/11_Resultados_Mesa_Concejales_TER-AISEN.xlsx\",\n",
    "    \"https://www.servel.cl/wp-content/uploads/2023/06/10_Resultados_Mesa_Concejales_TER-LOS-LAGOS.xlsx\",\n",
    "    \"https://www.servel.cl/wp-content/uploads/2023/06/14_Resultados_Mesa_Concejales_TER-LOS-RIOS.xlsx\",\n",
    "    \"https://www.servel.cl/wp-content/uploads/2023/06/09_Resultados_Mesa_Concejales_TER-LA-ARAUCANIA.xlsx\",\n",
    "    \"https://www.servel.cl/wp-content/uploads/2023/06/08_Resultados_Mesa_Concejales_TER-BIOBIO.xlsx\",\n",
    "    \"https://www.servel.cl/wp-content/uploads/2023/06/07_Resultados_Mesa_Concejales_TER-MAULE.xlsx\",\n",
    "    \"https://www.servel.cl/wp-content/uploads/2023/06/06_Resultados_Mesa_Concejales_TER-OHIGGINS.xlsx\",\n",
    "    \"https://www.servel.cl/wp-content/uploads/2023/06/13_Resultados_Mesa_Concejales_TER_2-METRO-2.xlsx\",\n",
    "    \"https://www.servel.cl/wp-content/uploads/2023/06/13_Resultados_Mesa_Concejales_TER_1-METRO-.xlsx\",\n",
    "    \"https://www.servel.cl/wp-content/uploads/2023/06/05_Resultados_Mesa_Concejales_TERVALPO.xlsx\",\n",
    "    \"https://www.servel.cl/wp-content/uploads/2023/06/04_Resultados_Mesa_Concejales_TERCOQUIMBO.xlsx\",\n",
    "    \"https://www.servel.cl/wp-content/uploads/2023/06/03_Resultados_Mesa_Concejales_TERCOPIAPO.xlsx\",\n",
    "    \"https://www.servel.cl/wp-content/uploads/2023/06/02_Resultados_Mesa_Concejales_TER-ANTOFA.xlsx\",\n",
    "    \"https://www.servel.cl/wp-content/uploads/2023/06/01_Resultados_Mesa_Concejales_TER-IQUIQUE.xlsx\",\n",
    "    \"https://www.servel.cl/wp-content/uploads/2023/06/15_Resultados_Mesa_Concejales_TERARICA.xlsx\"\n",
    "]"
   ]
  },
  {
   "cell_type": "code",
   "execution_count": 3,
   "metadata": {},
   "outputs": [],
   "source": [
    "output = []\n",
    "for path in regions:\n",
    "    frag = pd.read_excel(path)\n",
    "    output.append(frag)\n",
    "\n",
    "df = pd.concat(output, ignore_index=True)\n",
    "df.head()"
   ]
  },
  {
   "cell_type": "code",
   "execution_count": 4,
   "metadata": {},
   "outputs": [],
   "source": [
    "def create_polling_id(data, columns=[]):\n",
    "    output = data[columns[0]].fillna(\"###\").copy()\n",
    "\n",
    "    for column in columns[1:]:\n",
    "        output += \"-\" + data[column].fillna(\"###\").astype(str)\n",
    "    return output\n",
    "\n",
    "df[\"polling_id\"] = create_polling_id(df, columns=[\"Región\", \"Provincia\", \"Distrito\", \"Comuna\", \"Circunscripción\", \"Mesa Nº\", \"Tipo\"])"
   ]
  },
  {
   "cell_type": "code",
   "execution_count": 9,
   "metadata": {},
   "outputs": [
    {
     "data": {
      "text/plain": [
       "array(['VOTOS EN BLANCO', 'LUIS BLANCO AREVALO',\n",
       "       'GUILLERMO BLANCO ANTINAO', 'VICTOR PAULINO ANCAN BLANCO',\n",
       "       'ALEJANDRO HUINCA BLANCO', 'ROBERTO FRANCISCO BLANCO CHIHUAILAF',\n",
       "       'MARIO ENRIQUE LLANCALEO BLANCO', 'ALBERTO BLANCO JORQUERA',\n",
       "       'MARIO UNDURRAGA CASTELBLANCO', 'MIGUEL ANGEL SALAZAR BLANCO',\n",
       "       'FERNANDO CERDA BLANCO', 'MACARENA BLANCO SILVA',\n",
       "       'MARCELO IVAN BLANCO NAVARRO', 'EDUARDO EBNER BLANCO',\n",
       "       'DAISY PAOLA GUTIERREZ BLANCO', 'DAVID BLANCO URZUA',\n",
       "       'LEONOR EMA MUÑOZ BLANCO', 'ANDREA BLANCO SAGREDO',\n",
       "       'JUAN PABLO BLANCO BLANCO', 'VIRGINIA CHOQUE BLANCO'], dtype=object)"
      ]
     },
     "execution_count": 9,
     "metadata": {},
     "output_type": "execute_result"
    }
   ],
   "source": [
    "df[df.Candidato.fillna(\"#\").str.contains(\"BLANCO\")].Candidato.unique()"
   ]
  },
  {
   "cell_type": "code",
   "execution_count": 12,
   "metadata": {},
   "outputs": [],
   "source": [
    "# VOTOS NULOS\n",
    "# VOTOS EN BLANCO\t\n",
    "# TOTALES\n",
    "df[\"Candidato\"] = df[\"Candidato\"].replace({\n",
    "    \"VOTOS EN BLANCO\": \"BLANK\",\n",
    "    \"VOTOS NULOS\": \"NULL\"\n",
    "})\n",
    "\n",
    "df_spoilt = df[df[\"Candidato\"].isin([\"NULL\", \"BLANK\"])].copy()\n",
    "df_spoilt = df_spoilt[[\"Candidato\", \"Votos TER\", \"polling_id\"]].rename(columns={\"Candidato\": \"candidate\", \"Votos TER\": \"value\"})\n",
    "df_spoilt[\"flag_candidates\"] = 0\n",
    "df_spoilt.head()\n",
    "\n",
    "df = df[~df[\"Candidato\"].isin([\"BLANK\", \"NULL\", \"TOTALES\", np.nan])].copy()"
   ]
  },
  {
   "cell_type": "code",
   "execution_count": 13,
   "metadata": {},
   "outputs": [
    {
     "data": {
      "text/html": [
       "<div>\n",
       "<style scoped>\n",
       "    .dataframe tbody tr th:only-of-type {\n",
       "        vertical-align: middle;\n",
       "    }\n",
       "\n",
       "    .dataframe tbody tr th {\n",
       "        vertical-align: top;\n",
       "    }\n",
       "\n",
       "    .dataframe thead th {\n",
       "        text-align: right;\n",
       "    }\n",
       "</style>\n",
       "<table border=\"1\" class=\"dataframe\">\n",
       "  <thead>\n",
       "    <tr style=\"text-align: right;\">\n",
       "      <th></th>\n",
       "      <th>polling_id</th>\n",
       "      <th>candidate</th>\n",
       "      <th>value</th>\n",
       "      <th>rate</th>\n",
       "      <th>flag_candidates</th>\n",
       "    </tr>\n",
       "  </thead>\n",
       "  <tbody>\n",
       "    <tr>\n",
       "      <th>0</th>\n",
       "      <td>AISEN DEL GRAL. CARLOS IBAÑEZ-AISEN-27.0-AISEN...</td>\n",
       "      <td>PACTO ALTERNATIVA DEMOCRATICA</td>\n",
       "      <td>0.0</td>\n",
       "      <td>0.000000</td>\n",
       "      <td>1</td>\n",
       "    </tr>\n",
       "    <tr>\n",
       "      <th>1</th>\n",
       "      <td>AISEN DEL GRAL. CARLOS IBAÑEZ-AISEN-27.0-AISEN...</td>\n",
       "      <td>PACTO AYSEN</td>\n",
       "      <td>1.0</td>\n",
       "      <td>0.010309</td>\n",
       "      <td>1</td>\n",
       "    </tr>\n",
       "    <tr>\n",
       "      <th>2</th>\n",
       "      <td>AISEN DEL GRAL. CARLOS IBAÑEZ-AISEN-27.0-AISEN...</td>\n",
       "      <td>PACTO CHILE VAMOS PRI-EVOPOLI E INDEPENDIENTES</td>\n",
       "      <td>5.0</td>\n",
       "      <td>0.051546</td>\n",
       "      <td>1</td>\n",
       "    </tr>\n",
       "    <tr>\n",
       "      <th>3</th>\n",
       "      <td>AISEN DEL GRAL. CARLOS IBAÑEZ-AISEN-27.0-AISEN...</td>\n",
       "      <td>PACTO CHILE VAMOS RN E INDEPENDIENTES</td>\n",
       "      <td>21.0</td>\n",
       "      <td>0.216495</td>\n",
       "      <td>1</td>\n",
       "    </tr>\n",
       "    <tr>\n",
       "      <th>4</th>\n",
       "      <td>AISEN DEL GRAL. CARLOS IBAÑEZ-AISEN-27.0-AISEN...</td>\n",
       "      <td>PACTO CHILE VAMOS UDI-INDEPENDIENTES</td>\n",
       "      <td>32.0</td>\n",
       "      <td>0.329897</td>\n",
       "      <td>1</td>\n",
       "    </tr>\n",
       "  </tbody>\n",
       "</table>\n",
       "</div>"
      ],
      "text/plain": [
       "                                          polling_id  \\\n",
       "0  AISEN DEL GRAL. CARLOS IBAÑEZ-AISEN-27.0-AISEN...   \n",
       "1  AISEN DEL GRAL. CARLOS IBAÑEZ-AISEN-27.0-AISEN...   \n",
       "2  AISEN DEL GRAL. CARLOS IBAÑEZ-AISEN-27.0-AISEN...   \n",
       "3  AISEN DEL GRAL. CARLOS IBAÑEZ-AISEN-27.0-AISEN...   \n",
       "4  AISEN DEL GRAL. CARLOS IBAÑEZ-AISEN-27.0-AISEN...   \n",
       "\n",
       "                                        candidate  value      rate  \\\n",
       "0                   PACTO ALTERNATIVA DEMOCRATICA    0.0  0.000000   \n",
       "1                                     PACTO AYSEN    1.0  0.010309   \n",
       "2  PACTO CHILE VAMOS PRI-EVOPOLI E INDEPENDIENTES    5.0  0.051546   \n",
       "3           PACTO CHILE VAMOS RN E INDEPENDIENTES   21.0  0.216495   \n",
       "4            PACTO CHILE VAMOS UDI-INDEPENDIENTES   32.0  0.329897   \n",
       "\n",
       "   flag_candidates  \n",
       "0                1  \n",
       "1                1  \n",
       "2                1  \n",
       "3                1  \n",
       "4                1  "
      ]
     },
     "execution_count": 13,
     "metadata": {},
     "output_type": "execute_result"
    }
   ],
   "source": [
    "data = df[[\"polling_id\", \"Pacto\", \"Votos TER\"]].dropna(subset=[\"Pacto\"])\n",
    "data = data.rename(columns={\"Pacto\": \"candidate\", \"Votos TER\": \"value\"})\n",
    "\n",
    "tt = data.groupby([\"polling_id\", \"candidate\"]).agg({\"value\": \"sum\"})\n",
    "tt[\"rate\"] = tt.groupby(level=[0], group_keys=False).apply(lambda x: x/x.sum()).fillna(0)\n",
    "tt = tt.reset_index()\n",
    "tt[\"flag_candidates\"] = 1\n",
    "\n",
    "tt.head()"
   ]
  },
  {
   "cell_type": "code",
   "execution_count": 14,
   "metadata": {},
   "outputs": [],
   "source": [
    "data = pd.concat([\n",
    "    tt,\n",
    "    df_spoilt\n",
    "])"
   ]
  },
  {
   "cell_type": "code",
   "execution_count": 6,
   "metadata": {},
   "outputs": [],
   "source": [
    "df_location = df[[\"polling_id\", \"Región\", \"Provincia\", \"Distrito\", \"Comuna\", \"Circunscripción\", \"Mesa Nº\", \"Tipo\"]].drop_duplicates()\n",
    "df_location = df_location.rename(columns={\n",
    "    \"Región\": \"region\",\n",
    "    \"Comuna\": \"commune\",\n",
    "    \"Provincia\": \"province\",\n",
    "    \"Distrito\": \"district\",\n",
    "    \"Circunscripción\": \"circunscription\",\n",
    "    \"Mesa Nº\": \"polling_station\",\n",
    "    \"Tipo\": \"type\"\n",
    "})"
   ]
  },
  {
   "cell_type": "code",
   "execution_count": 15,
   "metadata": {},
   "outputs": [],
   "source": [
    "data.to_csv(\"../data_output/Chile/2016_councilors_polling_station.csv.gz\")\n",
    "df_location.to_csv(\"../data_output/Chile/2016_councilors_polling_station_location.csv.gz\")"
   ]
  }
 ],
 "metadata": {
  "kernelspec": {
   "display_name": "Python 3",
   "language": "python",
   "name": "python3"
  },
  "language_info": {
   "codemirror_mode": {
    "name": "ipython",
    "version": 3
   },
   "file_extension": ".py",
   "mimetype": "text/x-python",
   "name": "python",
   "nbconvert_exporter": "python",
   "pygments_lexer": "ipython3",
   "version": "3.10.8"
  },
  "orig_nbformat": 4
 },
 "nbformat": 4,
 "nbformat_minor": 2
}
