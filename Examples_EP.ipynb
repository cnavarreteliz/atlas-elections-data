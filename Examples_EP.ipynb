{
 "cells": [
  {
   "cell_type": "code",
   "execution_count": 2,
   "metadata": {},
   "outputs": [],
   "source": [
    "import pandas as pd\n",
    "\n",
    "from epitools import between_p, within_p"
   ]
  },
  {
   "cell_type": "code",
   "execution_count": 6,
   "metadata": {},
   "outputs": [
    {
     "data": {
      "text/plain": [
       "(  candidate  value  weight     type\n",
       " 0         A    0.0     0.5  Between\n",
       " 1         B    0.0     0.5  Between,\n",
       "   candidate  value  weight    type\n",
       " 0         A    0.5     0.5  Within\n",
       " 1         B    0.5     0.5  Within)"
      ]
     },
     "execution_count": 6,
     "metadata": {},
     "output_type": "execute_result"
    }
   ],
   "source": [
    "df = pd.DataFrame([\n",
    "    (\"A\", \"I\", 100),\n",
    "    (\"A\", \"II\", 0),\n",
    "    (\"B\", \"I\", 0),\n",
    "    (\"B\", \"II\", 100),\n",
    "], columns=[\"candidate\", \"polling_id\", \"value\"])\n",
    "\n",
    "df[\"rate\"] = df.groupby(\"polling_id\", group_keys=False)[\"value\"].apply(lambda x: x/x.sum())\n",
    "\n",
    "between_p(df), within_p(df)"
   ]
  },
  {
   "cell_type": "code",
   "execution_count": 8,
   "metadata": {},
   "outputs": [
    {
     "data": {
      "text/plain": [
       "(  candidate  value  weight     type\n",
       " 0         A   0.45     0.5  Between\n",
       " 1         B   0.45     0.5  Between,\n",
       "   candidate  value  weight    type\n",
       " 0         A   0.05     0.5  Within\n",
       " 1         B   0.05     0.5  Within)"
      ]
     },
     "execution_count": 8,
     "metadata": {},
     "output_type": "execute_result"
    }
   ],
   "source": [
    "df = pd.DataFrame([\n",
    "    (\"A\", \"I\", 55),\n",
    "    (\"A\", \"II\", 45),\n",
    "    (\"B\", \"I\", 45),\n",
    "    (\"B\", \"II\", 55),\n",
    "], columns=[\"candidate\", \"polling_id\", \"value\"])\n",
    "\n",
    "df[\"rate\"] = df.groupby(\"polling_id\", group_keys=False)[\"value\"].apply(lambda x: x/x.sum())\n",
    "\n",
    "between_p(df), within_p(df)"
   ]
  }
 ],
 "metadata": {
  "kernelspec": {
   "display_name": "Python 3",
   "language": "python",
   "name": "python3"
  },
  "language_info": {
   "codemirror_mode": {
    "name": "ipython",
    "version": 3
   },
   "file_extension": ".py",
   "mimetype": "text/x-python",
   "name": "python",
   "nbconvert_exporter": "python",
   "pygments_lexer": "ipython3",
   "version": "3.10.8"
  },
  "orig_nbformat": 4
 },
 "nbformat": 4,
 "nbformat_minor": 2
}
