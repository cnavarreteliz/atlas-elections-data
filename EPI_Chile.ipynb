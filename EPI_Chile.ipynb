{
 "cells": [
  {
   "cell_type": "code",
   "execution_count": 15,
   "metadata": {},
   "outputs": [],
   "source": [
    "import numpy as np\n",
    "import pandas as pd\n",
    "import seaborn as sns\n",
    "import matplotlib.pyplot as plt"
   ]
  },
  {
   "cell_type": "code",
   "execution_count": 38,
   "metadata": {},
   "outputs": [],
   "source": [
    "def weighted_sd(input_df):\n",
    "    weights = input_df[\"value\"].fillna(0) / input_df[\"value\"].sum()\n",
    "    vals = input_df[\"rate\"].fillna(0)\n",
    "    weighted_avg = np.average(vals, weights=weights)\n",
    "    # print(vals, weights, weighted_avg)\n",
    "    numer = np.sum(weights * (vals - weighted_avg)**2)\n",
    "    denom = ((vals.count()-1)/vals.count())*np.sum(weights)\n",
    "    return np.sqrt(numer)\n",
    "    return np.sqrt(numer/denom)"
   ]
  },
  {
   "cell_type": "code",
   "execution_count": 39,
   "metadata": {},
   "outputs": [
    {
     "name": "stdout",
     "output_type": "stream",
     "text": [
      "1952 :  397\n",
      "['Pedro Enrique Alfonso Berríos' 'Salvador Allende Gossens'\n",
      " 'Carlos Ibañez del Campo' 'Arturo Matte Larraín']\n",
      "1958 :  413\n",
      "['Jorge Alessandri' 'Luis Bossay' 'Antonio Zamorano' 'Salvador Allende'\n",
      " 'Eduardo Frei']\n",
      "1964 :  441\n",
      "['Salvador Allende' 'Eduardo Frei' 'Luis Durán']\n",
      "1970 :  458\n",
      "['Tomic' 'Alessandri' 'Allende']\n"
     ]
    },
    {
     "data": {
      "text/html": [
       "<div>\n",
       "<style scoped>\n",
       "    .dataframe tbody tr th:only-of-type {\n",
       "        vertical-align: middle;\n",
       "    }\n",
       "\n",
       "    .dataframe tbody tr th {\n",
       "        vertical-align: top;\n",
       "    }\n",
       "\n",
       "    .dataframe thead th {\n",
       "        text-align: right;\n",
       "    }\n",
       "</style>\n",
       "<table border=\"1\" class=\"dataframe\">\n",
       "  <thead>\n",
       "    <tr style=\"text-align: right;\">\n",
       "      <th></th>\n",
       "      <th>year</th>\n",
       "      <th>N</th>\n",
       "      <th>value</th>\n",
       "    </tr>\n",
       "  </thead>\n",
       "  <tbody>\n",
       "    <tr>\n",
       "      <th>0</th>\n",
       "      <td>1952</td>\n",
       "      <td>4</td>\n",
       "      <td>0.432016</td>\n",
       "    </tr>\n",
       "    <tr>\n",
       "      <th>1</th>\n",
       "      <td>1958</td>\n",
       "      <td>5</td>\n",
       "      <td>0.433502</td>\n",
       "    </tr>\n",
       "    <tr>\n",
       "      <th>2</th>\n",
       "      <td>1964</td>\n",
       "      <td>3</td>\n",
       "      <td>0.229287</td>\n",
       "    </tr>\n",
       "    <tr>\n",
       "      <th>3</th>\n",
       "      <td>1970</td>\n",
       "      <td>3</td>\n",
       "      <td>0.246566</td>\n",
       "    </tr>\n",
       "  </tbody>\n",
       "</table>\n",
       "</div>"
      ],
      "text/plain": [
       "   year  N     value\n",
       "0  1952  4  0.432016\n",
       "1  1958  5  0.433502\n",
       "2  1964  3  0.229287\n",
       "3  1970  3  0.246566"
      ]
     },
     "execution_count": 39,
     "metadata": {},
     "output_type": "execute_result"
    }
   ],
   "source": [
    "VOTES_POLLING = 100\n",
    "RATE_THRESHOLD = 0.02\n",
    "output = []\n",
    "\n",
    "method = \"std\"\n",
    "for year in [1952, 1958, 1964, 1970]:\n",
    "    df = pd.read_csv(f\"data_output/Chile/{year}_first_round.csv.gz\")\n",
    "    ee = df.groupby(\"polling_id\").agg({\"value\": \"sum\"})\n",
    "    # values_polling = list(ee[ee[\"value\"] > VOTES_POLLING].index.unique())\n",
    "    dd = df.groupby(\"candidate\").agg({\"value\": \"sum\"})\n",
    "    dd[\"rate\"] = dd.apply(lambda x: x/x.sum())\n",
    "    # values = list(dd[dd[\"rate\"] > RATE_THRESHOLD].index.unique())\n",
    "    # print()\n",
    "    # df = df[df[\"polling_id\"].isin(values_polling)].copy()\n",
    "    # df = df[df[\"candidate\"].isin(values)].copy()\n",
    "\n",
    "    N = len(df[\"candidate\"].unique())\n",
    "    print(year, \": \", len(df.Comunas.unique()))\n",
    "    print(df[\"candidate\"].unique())\n",
    "    # display(df)\n",
    "\n",
    "    value = df.groupby(\"candidate\").apply(weighted_sd).sum()\n",
    "    # display(df)\n",
    "    # value = df.groupby(\"candidate\").agg({\"rate\": \"std\"}).sum()[\"rate\"]\n",
    "    \n",
    "\n",
    "    output.append({\n",
    "        \"year\": year,\n",
    "        \"N\": N,\n",
    "        \"value\": value\n",
    "    })\n",
    "\n",
    "df = pd.DataFrame(output)\n",
    "df"
   ]
  },
  {
   "cell_type": "code",
   "execution_count": 36,
   "metadata": {},
   "outputs": [
    {
     "name": "stderr",
     "output_type": "stream",
     "text": [
      "No artists with labels found to put in legend.  Note that artists whose label start with an underscore are ignored when legend() is called with no argument.\n"
     ]
    },
    {
     "data": {
      "image/png": "[encoded data removed]",
      "text/plain": [
       "<Figure size 700x300 with 1 Axes>"
      ]
     },
     "metadata": {},
     "output_type": "display_data"
    }
   ],
   "source": [
    "sns.set(font_scale=1.5, style=\"white\")\n",
    "fig, ax = plt.subplots(nrows=1, ncols=1, figsize=(7, 3))\n",
    "linestyles = [\"dotted\", \"dashed\", \"dashdot\"]\n",
    "palette = [\"orange\", \"blue\", \"red\"]\n",
    "idx = 0\n",
    "sns.barplot(\n",
    "    x=\"year\", \n",
    "    y=\"value\", \n",
    "    # color=palette[idx], \n",
    "    # linestyle=linestyles[idx],\n",
    "    # marker=\"o\", \n",
    "    # lw=2, \n",
    "    # hue=\"country\", \n",
    "    data=df\n",
    ")\n",
    "idx += 1\n",
    "sns.despine()\n",
    "ax.set_xlabel(\"\")\n",
    "ax.set_ylabel(\"EPI\")\n",
    "ax.legend(loc='upper center', bbox_to_anchor=(0.5, -0.2), ncol=3, frameon=False)\n",
    "fig.tight_layout()"
   ]
  },
  {
   "cell_type": "code",
   "execution_count": 29,
   "metadata": {},
   "outputs": [
    {
     "data": {
      "text/html": [
       "<div>\n",
       "<style scoped>\n",
       "    .dataframe tbody tr th:only-of-type {\n",
       "        vertical-align: middle;\n",
       "    }\n",
       "\n",
       "    .dataframe tbody tr th {\n",
       "        vertical-align: top;\n",
       "    }\n",
       "\n",
       "    .dataframe thead th {\n",
       "        text-align: right;\n",
       "    }\n",
       "</style>\n",
       "<table border=\"1\" class=\"dataframe\">\n",
       "  <thead>\n",
       "    <tr style=\"text-align: right;\">\n",
       "      <th></th>\n",
       "      <th>Provincia</th>\n",
       "      <th>Depto.</th>\n",
       "      <th>Comunas</th>\n",
       "      <th>polling_id</th>\n",
       "      <th>candidate</th>\n",
       "      <th>value</th>\n",
       "      <th>rank</th>\n",
       "      <th>rate</th>\n",
       "    </tr>\n",
       "  </thead>\n",
       "  <tbody>\n",
       "    <tr>\n",
       "      <th>80</th>\n",
       "      <td>ACONCAGUA</td>\n",
       "      <td>Los Andes</td>\n",
       "      <td>CALLE LARGA</td>\n",
       "      <td>ACONCAGUA-Los Andes-CALLE LARGA</td>\n",
       "      <td>Pedro Enrique Alfonso Berríos</td>\n",
       "      <td>120.0</td>\n",
       "      <td>3</td>\n",
       "      <td>0.126316</td>\n",
       "    </tr>\n",
       "    <tr>\n",
       "      <th>874</th>\n",
       "      <td>ACONCAGUA</td>\n",
       "      <td>Los Andes</td>\n",
       "      <td>CALLE LARGA</td>\n",
       "      <td>ACONCAGUA-Los Andes-CALLE LARGA</td>\n",
       "      <td>Carlos Ibañez del Campo</td>\n",
       "      <td>343.0</td>\n",
       "      <td>2</td>\n",
       "      <td>0.361053</td>\n",
       "    </tr>\n",
       "    <tr>\n",
       "      <th>477</th>\n",
       "      <td>ACONCAGUA</td>\n",
       "      <td>Los Andes</td>\n",
       "      <td>CALLE LARGA</td>\n",
       "      <td>ACONCAGUA-Los Andes-CALLE LARGA</td>\n",
       "      <td>Salvador Allende Gossens</td>\n",
       "      <td>6.0</td>\n",
       "      <td>4</td>\n",
       "      <td>0.006316</td>\n",
       "    </tr>\n",
       "    <tr>\n",
       "      <th>1271</th>\n",
       "      <td>ACONCAGUA</td>\n",
       "      <td>Los Andes</td>\n",
       "      <td>CALLE LARGA</td>\n",
       "      <td>ACONCAGUA-Los Andes-CALLE LARGA</td>\n",
       "      <td>Arturo Matte Larraín</td>\n",
       "      <td>481.0</td>\n",
       "      <td>1</td>\n",
       "      <td>0.506316</td>\n",
       "    </tr>\n",
       "    <tr>\n",
       "      <th>1269</th>\n",
       "      <td>ACONCAGUA</td>\n",
       "      <td>Los Andes</td>\n",
       "      <td>LOS ANDES</td>\n",
       "      <td>ACONCAGUA-Los Andes-LOS ANDES</td>\n",
       "      <td>Arturo Matte Larraín</td>\n",
       "      <td>1388.0</td>\n",
       "      <td>3</td>\n",
       "      <td>0.258569</td>\n",
       "    </tr>\n",
       "  </tbody>\n",
       "</table>\n",
       "</div>"
      ],
      "text/plain": [
       "      Provincia     Depto.      Comunas                       polling_id  \\\n",
       "80    ACONCAGUA  Los Andes  CALLE LARGA  ACONCAGUA-Los Andes-CALLE LARGA   \n",
       "874   ACONCAGUA  Los Andes  CALLE LARGA  ACONCAGUA-Los Andes-CALLE LARGA   \n",
       "477   ACONCAGUA  Los Andes  CALLE LARGA  ACONCAGUA-Los Andes-CALLE LARGA   \n",
       "1271  ACONCAGUA  Los Andes  CALLE LARGA  ACONCAGUA-Los Andes-CALLE LARGA   \n",
       "1269  ACONCAGUA  Los Andes    LOS ANDES    ACONCAGUA-Los Andes-LOS ANDES   \n",
       "\n",
       "                          candidate   value  rank      rate  \n",
       "80    Pedro Enrique Alfonso Berríos   120.0     3  0.126316  \n",
       "874         Carlos Ibañez del Campo   343.0     2  0.361053  \n",
       "477        Salvador Allende Gossens     6.0     4  0.006316  \n",
       "1271           Arturo Matte Larraín   481.0     1  0.506316  \n",
       "1269           Arturo Matte Larraín  1388.0     3  0.258569  "
      ]
     },
     "execution_count": 29,
     "metadata": {},
     "output_type": "execute_result"
    }
   ],
   "source": [
    "df = pd.read_csv(f\"data_output/Chile/1952_first_round.csv.gz\")\n",
    "df.sort_values(\"polling_id\").head()"
   ]
  },
  {
   "cell_type": "code",
   "execution_count": 31,
   "metadata": {},
   "outputs": [
    {
     "data": {
      "text/html": [
       "<div>\n",
       "<style scoped>\n",
       "    .dataframe tbody tr th:only-of-type {\n",
       "        vertical-align: middle;\n",
       "    }\n",
       "\n",
       "    .dataframe tbody tr th {\n",
       "        vertical-align: top;\n",
       "    }\n",
       "\n",
       "    .dataframe thead th {\n",
       "        text-align: right;\n",
       "    }\n",
       "</style>\n",
       "<table border=\"1\" class=\"dataframe\">\n",
       "  <thead>\n",
       "    <tr style=\"text-align: right;\">\n",
       "      <th></th>\n",
       "      <th>rate</th>\n",
       "    </tr>\n",
       "    <tr>\n",
       "      <th>candidate</th>\n",
       "      <th></th>\n",
       "    </tr>\n",
       "  </thead>\n",
       "  <tbody>\n",
       "    <tr>\n",
       "      <th>Arturo Matte Larraín</th>\n",
       "      <td>0.170498</td>\n",
       "    </tr>\n",
       "    <tr>\n",
       "      <th>Carlos Ibañez del Campo</th>\n",
       "      <td>0.163468</td>\n",
       "    </tr>\n",
       "    <tr>\n",
       "      <th>Pedro Enrique Alfonso Berríos</th>\n",
       "      <td>0.124203</td>\n",
       "    </tr>\n",
       "    <tr>\n",
       "      <th>Salvador Allende Gossens</th>\n",
       "      <td>0.058417</td>\n",
       "    </tr>\n",
       "  </tbody>\n",
       "</table>\n",
       "</div>"
      ],
      "text/plain": [
       "                                   rate\n",
       "candidate                              \n",
       "Arturo Matte Larraín           0.170498\n",
       "Carlos Ibañez del Campo        0.163468\n",
       "Pedro Enrique Alfonso Berríos  0.124203\n",
       "Salvador Allende Gossens       0.058417"
      ]
     },
     "execution_count": 31,
     "metadata": {},
     "output_type": "execute_result"
    }
   ],
   "source": [
    "df.groupby(\"candidate\").agg({\"rate\": \"std\"})"
   ]
  },
  {
   "cell_type": "code",
   "execution_count": 32,
   "metadata": {},
   "outputs": [
    {
     "data": {
      "text/plain": [
       "candidate\n",
       "Arturo Matte Larraín             0.146237\n",
       "Carlos Ibañez del Campo          0.111021\n",
       "Pedro Enrique Alfonso Berríos    0.103039\n",
       "Salvador Allende Gossens         0.072264\n",
       "dtype: float64"
      ]
     },
     "execution_count": 32,
     "metadata": {},
     "output_type": "execute_result"
    }
   ],
   "source": [
    "df.groupby(\"candidate\").apply(weighted_sd)"
   ]
  }
 ],
 "metadata": {
  "kernelspec": {
   "display_name": "Python 3",
   "language": "python",
   "name": "python3"
  },
  "language_info": {
   "codemirror_mode": {
    "name": "ipython",
    "version": 3
   },
   "file_extension": ".py",
   "mimetype": "text/x-python",
   "name": "python",
   "nbconvert_exporter": "python",
   "pygments_lexer": "ipython3",
   "version": "3.10.8"
  },
  "orig_nbformat": 4,
  "vscode": {
   "interpreter": {
    "hash": "369f2c481f4da34e4445cda3fffd2e751bd1c4d706f27375911949ba6bb62e1c"
   }
  }
 },
 "nbformat": 4,
 "nbformat_minor": 2
}
