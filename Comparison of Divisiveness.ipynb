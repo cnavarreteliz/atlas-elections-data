{
 "cells": [
  {
   "cell_type": "code",
   "execution_count": 1,
   "metadata": {},
   "outputs": [],
   "source": [
    "import pandas as pd"
   ]
  },
  {
   "cell_type": "code",
   "execution_count": 2,
   "metadata": {},
   "outputs": [],
   "source": [
    "year = 2012\n",
    "country = \"France\"\n",
    "geography = \"department_id\""
   ]
  },
  {
   "cell_type": "code",
   "execution_count": 6,
   "metadata": {},
   "outputs": [],
   "source": [
    "output = []\n",
    "for method in [\"std\", \"std_rank\", \"skew\", \"kurtosis\"]:\n",
    "    path = f\"data_output/{country}/{year}_divisiveness_{geography}_{method}.csv.gz\"\n",
    "    tmp = pd.read_csv(path, compression=\"gzip\")\n",
    "    tmp[\"method\"] = method\n",
    "    output.append(tmp)\n",
    "    \n",
    "df = pd.concat(output, ignore_index=True)"
   ]
  },
  {
   "cell_type": "code",
   "execution_count": 17,
   "metadata": {},
   "outputs": [
    {
     "data": {
      "text/html": [
       "<div>\n",
       "<style scoped>\n",
       "    .dataframe tbody tr th:only-of-type {\n",
       "        vertical-align: middle;\n",
       "    }\n",
       "\n",
       "    .dataframe tbody tr th {\n",
       "        vertical-align: top;\n",
       "    }\n",
       "\n",
       "    .dataframe thead th {\n",
       "        text-align: right;\n",
       "    }\n",
       "</style>\n",
       "<table border=\"1\" class=\"dataframe\">\n",
       "  <thead>\n",
       "    <tr style=\"text-align: right;\">\n",
       "      <th>method</th>\n",
       "      <th>kurtosis</th>\n",
       "      <th>skew</th>\n",
       "      <th>std</th>\n",
       "      <th>std_rank</th>\n",
       "    </tr>\n",
       "    <tr>\n",
       "      <th>method</th>\n",
       "      <th></th>\n",
       "      <th></th>\n",
       "      <th></th>\n",
       "      <th></th>\n",
       "    </tr>\n",
       "  </thead>\n",
       "  <tbody>\n",
       "    <tr>\n",
       "      <th>kurtosis</th>\n",
       "      <td>1.000000</td>\n",
       "      <td>0.391574</td>\n",
       "      <td>0.000396</td>\n",
       "      <td>-0.095842</td>\n",
       "    </tr>\n",
       "    <tr>\n",
       "      <th>skew</th>\n",
       "      <td>0.391574</td>\n",
       "      <td>1.000000</td>\n",
       "      <td>-0.201188</td>\n",
       "      <td>-0.089901</td>\n",
       "    </tr>\n",
       "    <tr>\n",
       "      <th>std</th>\n",
       "      <td>0.000396</td>\n",
       "      <td>-0.201188</td>\n",
       "      <td>1.000000</td>\n",
       "      <td>0.282314</td>\n",
       "    </tr>\n",
       "    <tr>\n",
       "      <th>std_rank</th>\n",
       "      <td>-0.095842</td>\n",
       "      <td>-0.089901</td>\n",
       "      <td>0.282314</td>\n",
       "      <td>1.000000</td>\n",
       "    </tr>\n",
       "  </tbody>\n",
       "</table>\n",
       "</div>"
      ],
      "text/plain": [
       "method    kurtosis      skew       std  std_rank\n",
       "method                                          \n",
       "kurtosis  1.000000  0.391574  0.000396 -0.095842\n",
       "skew      0.391574  1.000000 -0.201188 -0.089901\n",
       "std       0.000396 -0.201188  1.000000  0.282314\n",
       "std_rank -0.095842 -0.089901  0.282314  1.000000"
      ]
     },
     "execution_count": 17,
     "metadata": {},
     "output_type": "execute_result"
    }
   ],
   "source": [
    "df[df[\"candidate\"] == \"Marine LE PEN\"].pivot(index=\"department_id\", columns=\"method\", values=\"value\").corr(\"kendall\")"
   ]
  }
 ],
 "metadata": {
  "kernelspec": {
   "display_name": "Python 3 (ipykernel)",
   "language": "python",
   "name": "python3"
  },
  "language_info": {
   "codemirror_mode": {
    "name": "ipython",
    "version": 3
   },
   "file_extension": ".py",
   "mimetype": "text/x-python",
   "name": "python",
   "nbconvert_exporter": "python",
   "pygments_lexer": "ipython3",
   "version": "3.9.4"
  }
 },
 "nbformat": 4,
 "nbformat_minor": 2
}
