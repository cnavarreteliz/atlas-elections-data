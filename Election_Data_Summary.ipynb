{
 "cells": [
  {
   "cell_type": "code",
   "execution_count": 1,
   "metadata": {},
   "outputs": [],
   "source": [
    "import pandas as pd"
   ]
  },
  {
   "cell_type": "code",
   "execution_count": 39,
   "metadata": {},
   "outputs": [
    {
     "name": "stdout",
     "output_type": "stream",
     "text": [
      "(466390, 6)\n",
      "Nro. candidates: 10\n",
      "['EDUARDO ARTES BRICHETTI' 'FRANCO PARISI FERNANDEZ' 'GABRIEL BORIC FONT'\n",
      " 'JOSE ANTONIO KAST RIST' 'MARCO ENRIQUEZ-OMINAMI GUMUCIO'\n",
      " 'SEBASTIAN SICHEL RAMIREZ' 'YASNA PROVOSTE CAMPILLAY' 'ABSTENTION' nan\n",
      " 'BLANK']\n"
     ]
    }
   ],
   "source": [
    "election_year = 2021\n",
    "election_round = \"first_round\"\n",
    "country = \"Chile\"\n",
    "\n",
    "df = pd.read_csv(f\"data_output/{country}/{election_year}_{election_round}.csv.gz\")\n",
    "df.head()\n",
    "\n",
    "print(df.shape)\n",
    "print(f\"Nro. candidates: {len(df.candidate.unique())}\")\n",
    "print(df.candidate.unique())\n"
   ]
  },
  {
   "cell_type": "code",
   "execution_count": 32,
   "metadata": {},
   "outputs": [
    {
     "data": {
      "text/plain": [
       "array(['FRANCO ALDO PARISI FERNANDEZ', 'MARCEL CLAUDE REYES',\n",
       "       'RICARDO ISRAEL ZIPPER', 'MARCO ENRIQUEZ-OMINAMI GUMUCIO',\n",
       "       'ROXANA MIRANDA MENESES', 'MICHELLE BACHELET JERIA',\n",
       "       'EVELYN MATTHEI FORNET', 'ALFREDO SFEIR YOUNIS',\n",
       "       'TOMAS JOCELYN-HOLT LETELIER'], dtype=object)"
      ]
     },
     "execution_count": 32,
     "metadata": {},
     "output_type": "execute_result"
    }
   ],
   "source": []
  }
 ],
 "metadata": {
  "kernelspec": {
   "display_name": "Python 3",
   "language": "python",
   "name": "python3"
  },
  "language_info": {
   "codemirror_mode": {
    "name": "ipython",
    "version": 3
   },
   "file_extension": ".py",
   "mimetype": "text/x-python",
   "name": "python",
   "nbconvert_exporter": "python",
   "pygments_lexer": "ipython3",
   "version": "3.10.8"
  },
  "orig_nbformat": 4
 },
 "nbformat": 4,
 "nbformat_minor": 2
}
